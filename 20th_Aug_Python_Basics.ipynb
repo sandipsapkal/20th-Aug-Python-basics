{
 "cells": [
  {
   "cell_type": "code",
   "execution_count": null,
   "id": "45999d84-2609-4274-891c-afa0c042d020",
   "metadata": {},
   "outputs": [],
   "source": [
    "String based assignment problem :"
   ]
  },
  {
   "cell_type": "code",
   "execution_count": null,
   "id": "ba24d706-1300-4b4b-bf76-c34dc6db784a",
   "metadata": {},
   "outputs": [],
   "source": [
    "1. Write a program to reverse a string."
   ]
  },
  {
   "cell_type": "code",
   "execution_count": 1,
   "id": "3a6b798e-d38e-4f7d-9a43-bb7ce2c9b4d6",
   "metadata": {},
   "outputs": [
    {
     "name": "stdin",
     "output_type": "stream",
     "text": [
      "Enter a string:  Welcome to pwskills\n"
     ]
    },
    {
     "name": "stdout",
     "output_type": "stream",
     "text": [
      "Reversed string: sllikswp ot emocleW\n"
     ]
    }
   ],
   "source": [
    "def reverse_string(input_string):\n",
    "    return input_string[::-1]\n",
    "\n",
    "# Input string\n",
    "input_str = input(\"Enter a string: \")\n",
    "\n",
    "# Call the function to reverse the string\n",
    "reversed_str = reverse_string(input_str)\n",
    "\n",
    "# Print the reversed string\n",
    "print(\"Reversed string:\", reversed_str)\n"
   ]
  },
  {
   "cell_type": "code",
   "execution_count": null,
   "id": "7c83ce44-c3e4-4117-992b-9ea94fe54911",
   "metadata": {},
   "outputs": [],
   "source": [
    "2. Check if a string is a palindrome."
   ]
  },
  {
   "cell_type": "code",
   "execution_count": 3,
   "id": "c57d9a0f-3cfd-456f-b3a8-2336d4f4249b",
   "metadata": {},
   "outputs": [
    {
     "name": "stdin",
     "output_type": "stream",
     "text": [
      "Enter a string:  racecar\n"
     ]
    },
    {
     "name": "stdout",
     "output_type": "stream",
     "text": [
      "The string is a palindrome.\n"
     ]
    }
   ],
   "source": [
    "def is_palindrome(input_string):\n",
    "    # Remove spaces and convert to lowercase for case-insensitive comparison\n",
    "    input_string = input_string.replace(\" \", \"\").lower()\n",
    "    reversed_str = input_string[::-1]\n",
    "    return input_string == reversed_str\n",
    "\n",
    "# Input string\n",
    "input_str = input(\"Enter a string: \")\n",
    "\n",
    "if is_palindrome(input_str):\n",
    "    print(\"The string is a palindrome.\")\n",
    "else:\n",
    "    print(\"The string is not a palindrome.\")"
   ]
  },
  {
   "cell_type": "code",
   "execution_count": null,
   "id": "0711a16d-db2c-44a3-9d7e-ea7ed5821275",
   "metadata": {},
   "outputs": [],
   "source": [
    "3. Convert a string to uppercase."
   ]
  },
  {
   "cell_type": "code",
   "execution_count": 4,
   "id": "d8c3e8fe-bda4-4767-a5cc-06ec4cd330b1",
   "metadata": {},
   "outputs": [
    {
     "name": "stdout",
     "output_type": "stream",
     "text": [
      "HELLO, WORLD!\n"
     ]
    }
   ],
   "source": [
    "input_str = \"Hello, World!\"\n",
    "uppercase_str = str.upper(input_str)\n",
    "print(uppercase_str)"
   ]
  },
  {
   "cell_type": "code",
   "execution_count": null,
   "id": "3ea87a1e-1235-46ed-8efc-fae5536b4aa1",
   "metadata": {},
   "outputs": [],
   "source": [
    "4. Convert a string to lowercase."
   ]
  },
  {
   "cell_type": "code",
   "execution_count": 5,
   "id": "cc568185-938e-4dff-b42f-5ced73ded6d6",
   "metadata": {},
   "outputs": [
    {
     "name": "stdout",
     "output_type": "stream",
     "text": [
      "hi pwskills!\n"
     ]
    }
   ],
   "source": [
    "input_str = \"Hi PWskills!\"\n",
    "lowercase_str = str.lower(input_str)\n",
    "print(lowercase_str)"
   ]
  },
  {
   "cell_type": "code",
   "execution_count": null,
   "id": "bf84adc9-6c5a-462a-aaba-6cad23b9fece",
   "metadata": {},
   "outputs": [],
   "source": [
    "5. Count the number of vowels in a string."
   ]
  },
  {
   "cell_type": "code",
   "execution_count": 6,
   "id": "f094ed21-ca4d-435a-bfce-e351fc052f43",
   "metadata": {},
   "outputs": [
    {
     "name": "stdin",
     "output_type": "stream",
     "text": [
      "Enter a string:  India is my country\n"
     ]
    },
    {
     "name": "stdout",
     "output_type": "stream",
     "text": [
      "Number of vowels: 6\n"
     ]
    }
   ],
   "source": [
    "def count_vowels(input_string):\n",
    "    # Convert the input string to lowercase to make it case-insensitive\n",
    "    input_string = input_string.lower()\n",
    "    \n",
    "    # Initialize a variable to keep track of the count\n",
    "    count = 0\n",
    "    \n",
    "    # Define the set of vowels\n",
    "    vowels = {'a', 'e', 'i', 'o', 'u'}\n",
    "    \n",
    "    # Iterate through the characters in the string\n",
    "    for char in input_string:\n",
    "        if char in vowels:\n",
    "            count += 1\n",
    "    \n",
    "    return count\n",
    "\n",
    "# Input string\n",
    "input_str = input(\"Enter a string: \")\n",
    "\n",
    "# Call the function to count vowels\n",
    "vowel_count = count_vowels(input_str)\n",
    "\n",
    "# Print the result\n",
    "print(\"Number of vowels:\", vowel_count)"
   ]
  },
  {
   "cell_type": "code",
   "execution_count": null,
   "id": "19830211-7213-48e8-bd61-480fdd8f3209",
   "metadata": {},
   "outputs": [],
   "source": [
    "6. Count the number of consonants in a string."
   ]
  },
  {
   "cell_type": "code",
   "execution_count": 7,
   "id": "8308839a-0b16-474c-9178-a60fc94cf79b",
   "metadata": {},
   "outputs": [
    {
     "name": "stdin",
     "output_type": "stream",
     "text": [
      "Enter a string:  the world is not enough\n"
     ]
    },
    {
     "name": "stdout",
     "output_type": "stream",
     "text": [
      "Number of consonants: 12\n"
     ]
    }
   ],
   "source": [
    "def count_consonants(input_string):\n",
    "    # Convert the input string to lowercase to make it case-insensitive\n",
    "    input_string = input_string.lower()\n",
    "    \n",
    "    # Initialize a variable to keep track of the count\n",
    "    count = 0\n",
    "    \n",
    "    # Define the set of vowels\n",
    "    vowels = {'a', 'e', 'i', 'o', 'u'}\n",
    "    \n",
    "    # Iterate through the characters in the string\n",
    "    for char in input_string:\n",
    "        if char.isalpha() and char not in vowels:\n",
    "            count += 1\n",
    "    \n",
    "    return count\n",
    "\n",
    "# Input string\n",
    "input_str = input(\"Enter a string: \")\n",
    "\n",
    "# Call the function to count consonants\n",
    "consonant_count = count_consonants(input_str)\n",
    "\n",
    "# Print the result\n",
    "print(\"Number of consonants:\", consonant_count)"
   ]
  },
  {
   "cell_type": "code",
   "execution_count": null,
   "id": "3f6aa962-ce7c-49d7-b866-9dc90bc2f864",
   "metadata": {},
   "outputs": [],
   "source": [
    "7. Remove all whitespaces from a string."
   ]
  },
  {
   "cell_type": "code",
   "execution_count": 1,
   "id": "c8eddeac-7166-4e6b-8785-525b61d3b77c",
   "metadata": {},
   "outputs": [
    {
     "name": "stdout",
     "output_type": "stream",
     "text": [
      "Hello,World!\n"
     ]
    }
   ],
   "source": [
    "input_str = \"Hello,  World!  \"\n",
    "# Replace all whitespaces with an empty string\n",
    "no_whitespace_str = input_str.replace(\" \", \"\")\n",
    "print(no_whitespace_str)"
   ]
  },
  {
   "cell_type": "code",
   "execution_count": null,
   "id": "3ce6cff8-581b-4e1b-8a34-c12b3e88aeb7",
   "metadata": {},
   "outputs": [],
   "source": [
    "8. Find the length of a string without using the len() function."
   ]
  },
  {
   "cell_type": "code",
   "execution_count": 2,
   "id": "41d27b79-eec5-467d-9b44-74f4cc22ecb9",
   "metadata": {},
   "outputs": [
    {
     "name": "stdin",
     "output_type": "stream",
     "text": [
      "Enter a string:  fjksahdfashjkh\n"
     ]
    },
    {
     "name": "stdout",
     "output_type": "stream",
     "text": [
      "Length of the string: 14\n"
     ]
    }
   ],
   "source": [
    "def find_string_length(input_string):\n",
    "    count = 0\n",
    "    for char in input_string:\n",
    "        count += 1\n",
    "    return count\n",
    "\n",
    "# Input string\n",
    "input_str = input(\"Enter a string: \")\n",
    "\n",
    "# Call the function to find the string length\n",
    "length = find_string_length(input_str)\n",
    "\n",
    "# Print the length of the string\n",
    "print(\"Length of the string:\", length)"
   ]
  },
  {
   "cell_type": "code",
   "execution_count": null,
   "id": "7ff41885-6823-4276-b356-38e0ec9c675b",
   "metadata": {},
   "outputs": [],
   "source": [
    "9. Check if a string contains a specific word."
   ]
  },
  {
   "cell_type": "code",
   "execution_count": 3,
   "id": "c3ac3b7c-9338-4cd6-9a4e-f3275bea6691",
   "metadata": {},
   "outputs": [
    {
     "name": "stdout",
     "output_type": "stream",
     "text": [
      "The word 'sample' is present in the string.\n"
     ]
    }
   ],
   "source": [
    "input_str = \"This is a sample string.\"\n",
    "word_to_find = \"sample\"\n",
    "\n",
    "if word_to_find in input_str:\n",
    "    print(f\"The word '{word_to_find}' is present in the string.\")\n",
    "else:\n",
    "    print(f\"The word '{word_to_find}' is not present in the string.\")"
   ]
  },
  {
   "cell_type": "code",
   "execution_count": null,
   "id": "0842e882-f740-44e8-9903-f62b9160165f",
   "metadata": {},
   "outputs": [],
   "source": [
    "10. Replace a word in a string with another word."
   ]
  },
  {
   "cell_type": "code",
   "execution_count": 4,
   "id": "e819c223-a711-426a-b5f7-2706b14913c7",
   "metadata": {},
   "outputs": [
    {
     "name": "stdout",
     "output_type": "stream",
     "text": [
      "Original string: Hello, World! This is a sample sentence.\n",
      "Modified string: Hello, World! This is a new sentence.\n"
     ]
    }
   ],
   "source": [
    "input_str = \"Hello, World! This is a sample sentence.\"\n",
    "word_to_replace = \"sample\"\n",
    "replacement_word = \"new\"\n",
    "\n",
    "# Replace the word in the string\n",
    "new_string = input_str.replace(word_to_replace, replacement_word)\n",
    "\n",
    "print(\"Original string:\", input_str)\n",
    "print(\"Modified string:\", new_string)"
   ]
  },
  {
   "cell_type": "code",
   "execution_count": null,
   "id": "705f2dc9-1d0f-4335-acd5-b43e73e72289",
   "metadata": {},
   "outputs": [],
   "source": [
    "11. Count the occurrences of a word in a string."
   ]
  },
  {
   "cell_type": "code",
   "execution_count": 5,
   "id": "5aa0a37a-1d52-42ca-a9fb-021e995e15dd",
   "metadata": {},
   "outputs": [
    {
     "name": "stdout",
     "output_type": "stream",
     "text": [
      "The word 'sample' appears 2 times in the string.\n"
     ]
    }
   ],
   "source": [
    "input_str = \"This is a sample sentence. This is another sample sentence.\"\n",
    "word_to_count = \"sample\"\n",
    "\n",
    "count = input_str.count(word_to_count)\n",
    "\n",
    "print(f\"The word '{word_to_count}' appears {count} times in the string.\")"
   ]
  },
  {
   "cell_type": "code",
   "execution_count": null,
   "id": "07932df6-a0fb-469f-a594-442c29072491",
   "metadata": {},
   "outputs": [],
   "source": [
    "12. Find the first occurrence of a word in a string."
   ]
  },
  {
   "cell_type": "code",
   "execution_count": 6,
   "id": "a280c9de-4a7f-4057-9e3c-2c34b2f24fae",
   "metadata": {},
   "outputs": [
    {
     "name": "stdout",
     "output_type": "stream",
     "text": [
      "The word 'sample' first appears at index 10.\n"
     ]
    }
   ],
   "source": [
    "input_str = \"This is a sample sentence. This is another sample sentence.\"\n",
    "word_to_find = \"sample\"\n",
    "\n",
    "index = input_str.find(word_to_find)\n",
    "\n",
    "if index != -1:\n",
    "    print(f\"The word '{word_to_find}' first appears at index {index}.\")\n",
    "else:\n",
    "    print(f\"The word '{word_to_find}' is not found in the string.\")"
   ]
  },
  {
   "cell_type": "code",
   "execution_count": null,
   "id": "ed5a18f5-e934-4227-87ea-1d498c88c7b4",
   "metadata": {},
   "outputs": [],
   "source": [
    "13. Find the last occurrence of a word in a string."
   ]
  },
  {
   "cell_type": "code",
   "execution_count": 7,
   "id": "73c0a326-ad5b-4684-bdf0-5cd815c55da1",
   "metadata": {},
   "outputs": [
    {
     "name": "stdout",
     "output_type": "stream",
     "text": [
      "The word 'sample' last appears at index 43.\n"
     ]
    }
   ],
   "source": [
    "input_str = \"This is a sample sentence. This is another sample sentence.\"\n",
    "word_to_find = \"sample\"\n",
    "\n",
    "index = input_str.rfind(word_to_find)\n",
    "\n",
    "if index != -1:\n",
    "    print(f\"The word '{word_to_find}' last appears at index {index}.\")\n",
    "else:\n",
    "    print(f\"The word '{word_to_find}' is not found in the string.\")"
   ]
  },
  {
   "cell_type": "code",
   "execution_count": null,
   "id": "11d6d858-5bc3-4437-91f7-bcf33707b54e",
   "metadata": {},
   "outputs": [],
   "source": [
    "14. Split a string into a list of words."
   ]
  },
  {
   "cell_type": "code",
   "execution_count": 8,
   "id": "21c342ef-1e40-4936-85a9-81dbcb9c9bd6",
   "metadata": {},
   "outputs": [
    {
     "name": "stdout",
     "output_type": "stream",
     "text": [
      "['This', 'is', 'a', 'sample', 'sentence.', 'This', 'is', 'another', 'sample', 'sentence.']\n"
     ]
    }
   ],
   "source": [
    "input_str = \"This is a sample sentence. This is another sample sentence.\"\n",
    "\n",
    "# Split the string into a list of words\n",
    "word_list = input_str.split()\n",
    "\n",
    "# Print the list of words\n",
    "print(word_list)"
   ]
  },
  {
   "cell_type": "code",
   "execution_count": null,
   "id": "878fa4f2-83a6-45ef-a5e1-a01a377b5496",
   "metadata": {},
   "outputs": [],
   "source": [
    "15. Join a list of words into a string."
   ]
  },
  {
   "cell_type": "code",
   "execution_count": 9,
   "id": "bd2b09b1-2515-46c9-be13-c73e079932dc",
   "metadata": {},
   "outputs": [
    {
     "name": "stdout",
     "output_type": "stream",
     "text": [
      "This is a list of words.\n"
     ]
    }
   ],
   "source": [
    "word_list = ['This', 'is', 'a', 'list', 'of', 'words.']\n",
    "\n",
    "# Join the list of words into a string with spaces as the delimiter\n",
    "result_str = ' '.join(word_list)\n",
    "\n",
    "# Print the resulting string\n",
    "print(result_str)"
   ]
  },
  {
   "cell_type": "code",
   "execution_count": null,
   "id": "2cf26cc2-6221-4011-8cc3-a3cd9e4dd50f",
   "metadata": {},
   "outputs": [],
   "source": [
    "16. Convert a string where words are separated by spaces to one where words are separated by underscores."
   ]
  },
  {
   "cell_type": "code",
   "execution_count": 1,
   "id": "c34db239-55bf-4dc2-87af-d02e22f8f088",
   "metadata": {},
   "outputs": [
    {
     "name": "stdout",
     "output_type": "stream",
     "text": [
      "This_is_a_sample_string_with_spaces\n"
     ]
    }
   ],
   "source": [
    "original_string = \"This is a sample string with spaces\"\n",
    "underscore_string = original_string.replace(\" \", \"_\")\n",
    "print(underscore_string)"
   ]
  },
  {
   "cell_type": "code",
   "execution_count": null,
   "id": "09a2cc2f-951c-409d-a753-087bf52f1bec",
   "metadata": {},
   "outputs": [],
   "source": [
    "17. Check if a string starts with a specific word or phrase."
   ]
  },
  {
   "cell_type": "code",
   "execution_count": 2,
   "id": "c5de7008-1b9a-4886-8d8f-798946868a1c",
   "metadata": {},
   "outputs": [
    {
     "name": "stdout",
     "output_type": "stream",
     "text": [
      "The string starts with 'Hello'.\n"
     ]
    }
   ],
   "source": [
    "# Input string\n",
    "input_string = \"Hello, world! This is a sample string.\"\n",
    "\n",
    "# Word or phrase to check for\n",
    "specific_word = \"Hello\"\n",
    "\n",
    "# Check if the string starts with the specific word or phrase\n",
    "if input_string.startswith(specific_word):\n",
    "    print(f\"The string starts with '{specific_word}'.\")\n",
    "else:\n",
    "    print(f\"The string does not start with '{specific_word}'.\")\n"
   ]
  },
  {
   "cell_type": "code",
   "execution_count": null,
   "id": "2d8962f5-8df1-43bf-875f-9382940ef941",
   "metadata": {},
   "outputs": [],
   "source": [
    "18. Check if a string ends with a specific word or phrase."
   ]
  },
  {
   "cell_type": "code",
   "execution_count": 3,
   "id": "16c92b82-9840-4090-b660-b106f7677ff5",
   "metadata": {},
   "outputs": [
    {
     "name": "stdout",
     "output_type": "stream",
     "text": [
      "The string ends with 'string.''.\n"
     ]
    }
   ],
   "source": [
    "# Input string\n",
    "input_string = \"This is a sample string. It ends with 'string.'\"\n",
    "\n",
    "# Word or phrase to check for\n",
    "specific_word = \"string.'\"\n",
    "\n",
    "# Check if the string ends with the specific word or phrase\n",
    "if input_string.endswith(specific_word):\n",
    "    print(f\"The string ends with '{specific_word}'.\")\n",
    "else:\n",
    "    print(f\"The string does not end with '{specific_word}'.\")"
   ]
  },
  {
   "cell_type": "code",
   "execution_count": null,
   "id": "6931f6a2-e6b0-4a4a-b131-d52982d87e96",
   "metadata": {},
   "outputs": [],
   "source": [
    "19. Convert a string to title case (e.g., \"hello world\" to \"Hello World\")."
   ]
  },
  {
   "cell_type": "code",
   "execution_count": 4,
   "id": "518a4364-345c-4375-a32e-55097993005a",
   "metadata": {},
   "outputs": [
    {
     "name": "stdout",
     "output_type": "stream",
     "text": [
      "Hello World\n"
     ]
    }
   ],
   "source": [
    "# Input string\n",
    "input_string = \"hello world\"\n",
    "\n",
    "# Convert the string to title case\n",
    "title_case_string = input_string.title()\n",
    "\n",
    "# Print the result\n",
    "print(title_case_string)"
   ]
  },
  {
   "cell_type": "code",
   "execution_count": null,
   "id": "360a1817-990e-4c35-90e3-9c1fe08eae1a",
   "metadata": {},
   "outputs": [],
   "source": [
    "20. Find the longest word in a string."
   ]
  },
  {
   "cell_type": "code",
   "execution_count": 5,
   "id": "88c0fc63-9662-4c08-a8d3-220da38e5549",
   "metadata": {},
   "outputs": [
    {
     "name": "stdout",
     "output_type": "stream",
     "text": [
      "The longest word in the string is: sentence\n"
     ]
    }
   ],
   "source": [
    "# Input string\n",
    "input_string = \"This is a sample sentence with some longer words.\"\n",
    "\n",
    "# Split the string into words\n",
    "words = input_string.split()\n",
    "\n",
    "# Initialize a variable to store the longest word\n",
    "longest_word = \"\"\n",
    "\n",
    "# Iterate through the words to find the longest one\n",
    "for word in words:\n",
    "    if len(word) > len(longest_word):\n",
    "        longest_word = word\n",
    "\n",
    "# Print the longest word\n",
    "print(\"The longest word in the string is:\", longest_word)"
   ]
  },
  {
   "cell_type": "code",
   "execution_count": null,
   "id": "6a566267-8c5b-4205-b48d-543ac007a897",
   "metadata": {},
   "outputs": [],
   "source": [
    "21. Find the shortest word in a string."
   ]
  },
  {
   "cell_type": "code",
   "execution_count": 6,
   "id": "1634a462-98cb-41c6-b62f-1daad1b23107",
   "metadata": {},
   "outputs": [
    {
     "name": "stdout",
     "output_type": "stream",
     "text": [
      "The shortest word in the string is: a\n"
     ]
    }
   ],
   "source": [
    "# Input string\n",
    "input_string = \"This is a sample sentence with some shorter words.\"\n",
    "\n",
    "# Split the string into words\n",
    "words = input_string.split()\n",
    "\n",
    "# Initialize a variable to store the shortest word\n",
    "shortest_word = None\n",
    "\n",
    "# Iterate through the words to find the shortest one\n",
    "for word in words:\n",
    "    if shortest_word is None or len(word) < len(shortest_word):\n",
    "        shortest_word = word\n",
    "\n",
    "# Print the shortest word\n",
    "if shortest_word:\n",
    "    print(\"The shortest word in the string is:\", shortest_word)\n",
    "else:\n",
    "    print(\"No words found in the string.\")"
   ]
  },
  {
   "cell_type": "code",
   "execution_count": null,
   "id": "7c8fc92b-4bf3-41f3-80f8-64cb018b9618",
   "metadata": {},
   "outputs": [],
   "source": [
    "22. Reverse the order of words in a string."
   ]
  },
  {
   "cell_type": "code",
   "execution_count": 7,
   "id": "f2642ced-a8a6-4327-a138-54478e4b02cb",
   "metadata": {},
   "outputs": [
    {
     "name": "stdout",
     "output_type": "stream",
     "text": [
      "sentence. sample a is This\n"
     ]
    }
   ],
   "source": [
    "# Input string\n",
    "input_string = \"This is a sample sentence.\"\n",
    "\n",
    "# Split the string into words\n",
    "words = input_string.split()\n",
    "\n",
    "# Reverse the order of words\n",
    "reversed_string = ' '.join(reversed(words))\n",
    "\n",
    "# Print the reversed string\n",
    "print(reversed_string)"
   ]
  },
  {
   "cell_type": "code",
   "execution_count": null,
   "id": "d4f8c7f1-0ae8-4736-bfcb-5e45ed00e981",
   "metadata": {},
   "outputs": [],
   "source": [
    "23. Check if a string is alphanumeric."
   ]
  },
  {
   "cell_type": "code",
   "execution_count": 8,
   "id": "f1b27879-bfb0-4a79-bed6-7728269ffa40",
   "metadata": {},
   "outputs": [
    {
     "name": "stdout",
     "output_type": "stream",
     "text": [
      "The string is alphanumeric.\n"
     ]
    }
   ],
   "source": [
    "# Input string\n",
    "input_string = \"abc123\"\n",
    "\n",
    "# Check if the string is alphanumeric\n",
    "if input_string.isalnum():\n",
    "    print(\"The string is alphanumeric.\")\n",
    "else:\n",
    "    print(\"The string is not alphanumeric.\")"
   ]
  },
  {
   "cell_type": "code",
   "execution_count": null,
   "id": "379b5d41-36b1-4693-a7f2-ad169de3b0c9",
   "metadata": {},
   "outputs": [],
   "source": [
    "24. Extract all digits from a string."
   ]
  },
  {
   "cell_type": "code",
   "execution_count": 9,
   "id": "8f6ca6c6-f09c-4ca3-aca5-c13cd67e3e22",
   "metadata": {},
   "outputs": [
    {
     "name": "stdout",
     "output_type": "stream",
     "text": [
      "Extracted digits: 312345\n"
     ]
    }
   ],
   "source": [
    "import re\n",
    "\n",
    "# Input string\n",
    "input_string = \"There are 3 numbers in this string: 12345\"\n",
    "\n",
    "# Use regular expressions to find all digits in the string\n",
    "digits = re.findall(r'\\d', input_string)\n",
    "\n",
    "# Join the digits to form a single string\n",
    "digit_string = ''.join(digits)\n",
    "\n",
    "# Print the extracted digits\n",
    "print(\"Extracted digits:\", digit_string)"
   ]
  },
  {
   "cell_type": "code",
   "execution_count": null,
   "id": "399de8ec-24df-448e-9a99-2854a1f78dad",
   "metadata": {},
   "outputs": [],
   "source": [
    "25. Extract all alphabets from a string."
   ]
  },
  {
   "cell_type": "code",
   "execution_count": 10,
   "id": "e5f49e9f-e87e-4368-9964-76ec11b750fe",
   "metadata": {},
   "outputs": [
    {
     "name": "stdout",
     "output_type": "stream",
     "text": [
      "Extracted alphabets: Thisisasamplestringwithnumbers\n"
     ]
    }
   ],
   "source": [
    "import re\n",
    "\n",
    "# Input string\n",
    "input_string = \"This is a sample string with 123 numbers.\"\n",
    "\n",
    "# Use regular expressions to find all alphabetic characters in the string\n",
    "alphabets = re.findall(r'[a-zA-Z]', input_string)\n",
    "\n",
    "# Join the alphabets to form a single string\n",
    "alphabet_string = ''.join(alphabets)\n",
    "\n",
    "# Print the extracted alphabets\n",
    "print(\"Extracted alphabets:\", alphabet_string)"
   ]
  },
  {
   "cell_type": "code",
   "execution_count": null,
   "id": "dbf5b564-e45e-4f2a-8107-df7c98eeb829",
   "metadata": {},
   "outputs": [],
   "source": [
    "26. Count the number of uppercase letters in a string."
   ]
  },
  {
   "cell_type": "code",
   "execution_count": 11,
   "id": "3f4a3393-22ca-4852-a0f6-577134025b7f",
   "metadata": {},
   "outputs": [
    {
     "name": "stdout",
     "output_type": "stream",
     "text": [
      "Number of uppercase letters: 8\n"
     ]
    }
   ],
   "source": [
    "# Input string\n",
    "input_string = \"This Is A Sample String With Uppercase Letters.\"\n",
    "\n",
    "# Initialize a variable to count the uppercase letters\n",
    "uppercase_count = 0\n",
    "\n",
    "# Iterate through the characters in the string\n",
    "for char in input_string:\n",
    "    if char.isupper():\n",
    "        uppercase_count += 1\n",
    "\n",
    "# Print the count of uppercase letters\n",
    "print(\"Number of uppercase letters:\", uppercase_count)"
   ]
  },
  {
   "cell_type": "code",
   "execution_count": null,
   "id": "0c9f5713-5ffa-414c-b435-76e6fa161299",
   "metadata": {},
   "outputs": [],
   "source": [
    "27. Count the number of lowercase letters in a string."
   ]
  },
  {
   "cell_type": "code",
   "execution_count": 12,
   "id": "2946a7ed-0f3f-483b-a3cf-9809232f7760",
   "metadata": {},
   "outputs": [
    {
     "name": "stdout",
     "output_type": "stream",
     "text": [
      "Number of lowercase letters: 31\n"
     ]
    }
   ],
   "source": [
    "# Input string\n",
    "input_string = \"This Is A Sample String With Lowercase Letters.\"\n",
    "\n",
    "# Initialize a variable to count the lowercase letters\n",
    "lowercase_count = 0\n",
    "\n",
    "# Iterate through the characters in the string\n",
    "for char in input_string:\n",
    "    if char.islower():\n",
    "        lowercase_count += 1\n",
    "\n",
    "# Print the count of lowercase letters\n",
    "print(\"Number of lowercase letters:\", lowercase_count)"
   ]
  },
  {
   "cell_type": "code",
   "execution_count": null,
   "id": "040ee2ba-b6de-489c-b2ab-12e7b54718ac",
   "metadata": {},
   "outputs": [],
   "source": [
    "28. Swap the case of each character in a string."
   ]
  },
  {
   "cell_type": "code",
   "execution_count": 13,
   "id": "836d853f-0dfb-4576-9674-3193885a81eb",
   "metadata": {},
   "outputs": [
    {
     "name": "stdout",
     "output_type": "stream",
     "text": [
      "String with swapped case: tHiS iS a sAmPlE sTrInG wItH sWaPpEd cAsE.\n"
     ]
    }
   ],
   "source": [
    "# Input string\n",
    "input_string = \"ThIs Is A SaMpLe StRiNg WiTh SwApPeD CaSe.\"\n",
    "\n",
    "# Swap the case of each character in the string\n",
    "swapped_string = input_string.swapcase()\n",
    "\n",
    "# Print the string with swapped case\n",
    "print(\"String with swapped case:\", swapped_string)"
   ]
  },
  {
   "cell_type": "code",
   "execution_count": null,
   "id": "e8e79a46-bcdd-4aea-9d4a-75b068a0d5ec",
   "metadata": {},
   "outputs": [],
   "source": [
    "29. Remove a specific word from a string."
   ]
  },
  {
   "cell_type": "code",
   "execution_count": 14,
   "id": "4ae7be3f-31a1-4dce-8592-d9eb9b5d7331",
   "metadata": {},
   "outputs": [
    {
     "name": "stdout",
     "output_type": "stream",
     "text": [
      "Modified string: This is a  sentence. Remove '' from this sentence.\n"
     ]
    }
   ],
   "source": [
    "# Input string\n",
    "input_string = \"This is a sample sentence. Remove 'sample' from this sentence.\"\n",
    "\n",
    "# Word to remove\n",
    "word_to_remove = \"sample\"\n",
    "\n",
    "# Remove the specific word from the string\n",
    "modified_string = input_string.replace(word_to_remove, '')\n",
    "\n",
    "# Print the modified string\n",
    "print(\"Modified string:\", modified_string)"
   ]
  },
  {
   "cell_type": "code",
   "execution_count": null,
   "id": "198fa6ff-e720-465c-a115-86b9fc7a5b64",
   "metadata": {},
   "outputs": [],
   "source": [
    "30. Check if a string is a valid email address."
   ]
  },
  {
   "cell_type": "code",
   "execution_count": 15,
   "id": "f182b2e9-1ef3-457c-943a-a17ca37c5a18",
   "metadata": {},
   "outputs": [
    {
     "name": "stdout",
     "output_type": "stream",
     "text": [
      "Valid email address.\n"
     ]
    }
   ],
   "source": [
    "import re\n",
    "\n",
    "# Input string (email address)\n",
    "email = \"example@email.com\"\n",
    "\n",
    "# Define a regular expression pattern for a valid email address\n",
    "pattern = r\"^[a-zA-Z0-9._%+-]+@[a-zA-Z0-9.-]+\\.[a-zA-Z]{2,}$\"\n",
    "\n",
    "# Use the re.match() function to check if the email matches the pattern\n",
    "if re.match(pattern, email):\n",
    "    print(\"Valid email address.\")\n",
    "else:\n",
    "    print(\"Invalid email address.\")"
   ]
  },
  {
   "cell_type": "code",
   "execution_count": null,
   "id": "078a369e-c693-40f6-91eb-5b05dc60a7e6",
   "metadata": {},
   "outputs": [],
   "source": [
    "31. Extract the username from an email address string."
   ]
  },
  {
   "cell_type": "code",
   "execution_count": 16,
   "id": "7d328fc5-0984-4127-8381-5c802ddcad0c",
   "metadata": {},
   "outputs": [
    {
     "name": "stdout",
     "output_type": "stream",
     "text": [
      "Extracted username: example\n"
     ]
    }
   ],
   "source": [
    "# Input email address\n",
    "email = \"example@email.com\"\n",
    "\n",
    "# Extract the username by splitting the email at the \"@\" symbol\n",
    "username = email.split('@')[0]\n",
    "\n",
    "# Print the extracted username\n",
    "print(\"Extracted username:\", username)"
   ]
  },
  {
   "cell_type": "code",
   "execution_count": null,
   "id": "6d44bdaa-d4b7-481f-825c-ba83f4fcb703",
   "metadata": {},
   "outputs": [],
   "source": [
    "32. Extract the domain name from an email address string."
   ]
  },
  {
   "cell_type": "code",
   "execution_count": 17,
   "id": "a270b028-66ee-45e7-8f1a-9ace17bfe11d",
   "metadata": {},
   "outputs": [
    {
     "name": "stdout",
     "output_type": "stream",
     "text": [
      "Extracted domain name: email.com\n"
     ]
    }
   ],
   "source": [
    "# Input email address\n",
    "email = \"example@email.com\"\n",
    "\n",
    "# Extract the domain name by splitting the email at the \"@\" symbol\n",
    "domain_name = email.split('@')[1]\n",
    "\n",
    "# Print the extracted domain name\n",
    "print(\"Extracted domain name:\", domain_name)\n"
   ]
  },
  {
   "cell_type": "code",
   "execution_count": null,
   "id": "b0b5a31b-853a-41bc-874f-e7588b51b032",
   "metadata": {},
   "outputs": [],
   "source": [
    "33. Replace multiple spaces in a string with a single space."
   ]
  },
  {
   "cell_type": "code",
   "execution_count": 18,
   "id": "61154618-f612-4dbd-a1fd-35927a687ac1",
   "metadata": {},
   "outputs": [
    {
     "name": "stdout",
     "output_type": "stream",
     "text": [
      "Modified string: This is a string with multiple spaces.\n"
     ]
    }
   ],
   "source": [
    "import re\n",
    "\n",
    "# Input string with multiple spaces\n",
    "input_string = \"This    is    a    string    with    multiple    spaces.\"\n",
    "\n",
    "# Use regular expressions to replace multiple spaces with a single space\n",
    "modified_string = re.sub(r'\\s+', ' ', input_string)\n",
    "\n",
    "# Print the modified string\n",
    "print(\"Modified string:\", modified_string)"
   ]
  },
  {
   "cell_type": "code",
   "execution_count": null,
   "id": "10a666a8-4214-45d2-b23f-eb66da310e6b",
   "metadata": {},
   "outputs": [],
   "source": [
    "34. Check if a string is a valid URL."
   ]
  },
  {
   "cell_type": "code",
   "execution_count": 19,
   "id": "a425a80e-0c45-4c04-b730-3f4629944481",
   "metadata": {},
   "outputs": [
    {
     "name": "stdout",
     "output_type": "stream",
     "text": [
      "Valid URL.\n"
     ]
    }
   ],
   "source": [
    "from urllib.parse import urlparse\n",
    "\n",
    "# Input string (URL)\n",
    "url = \"https://www.example.com/path/to/page\"\n",
    "\n",
    "# Use urlparse to check if the URL is valid\n",
    "try:\n",
    "    result = urlparse(url)\n",
    "    if all([result.scheme, result.netloc]):\n",
    "        print(\"Valid URL.\")\n",
    "    else:\n",
    "        print(\"Invalid URL.\")\n",
    "except ValueError:\n",
    "    print(\"Invalid URL.\")"
   ]
  },
  {
   "cell_type": "code",
   "execution_count": null,
   "id": "607337ea-8359-4e1a-a20a-5204c13802a8",
   "metadata": {},
   "outputs": [],
   "source": [
    "35. Extract the protocol (http or https) from a URL string."
   ]
  },
  {
   "cell_type": "code",
   "execution_count": 21,
   "id": "3854eaae-aaba-44c2-ad1f-9c7b04c234e5",
   "metadata": {},
   "outputs": [
    {
     "name": "stdout",
     "output_type": "stream",
     "text": [
      "Protocol: https\n"
     ]
    }
   ],
   "source": [
    "from urllib.parse import urlparse\n",
    "\n",
    "# Input URL\n",
    "url = \"https://www.example.com/path/to/page\"\n",
    "\n",
    "# Use urlparse to extract the protocol\n",
    "result = urlparse(url)\n",
    "protocol = result.scheme\n",
    "\n",
    "# Print the extracted protocol\n",
    "print(\"Protocol:\", protocol)"
   ]
  },
  {
   "cell_type": "code",
   "execution_count": null,
   "id": "175a4487-949a-4e2e-82c8-e4d90a4aba5a",
   "metadata": {},
   "outputs": [],
   "source": [
    "36. Find the frequency of each character in a string."
   ]
  },
  {
   "cell_type": "code",
   "execution_count": 22,
   "id": "bebb9748-6efc-4da7-ab8a-ddff24804e29",
   "metadata": {},
   "outputs": [
    {
     "name": "stdout",
     "output_type": "stream",
     "text": [
      "'H': 1 times\n",
      "'e': 1 times\n",
      "'l': 3 times\n",
      "'o': 2 times\n",
      "'W': 1 times\n",
      "'r': 1 times\n",
      "'d': 1 times\n"
     ]
    }
   ],
   "source": [
    "# Input string\n",
    "input_string = \"Hello, World!\"\n",
    "\n",
    "# Create an empty dictionary to store character frequencies\n",
    "char_frequency = {}\n",
    "\n",
    "# Iterate through the characters in the string\n",
    "for char in input_string:\n",
    "    if char.isalnum():  # To ignore non-alphanumeric characters\n",
    "        if char in char_frequency:\n",
    "            char_frequency[char] += 1\n",
    "        else:\n",
    "            char_frequency[char] = 1\n",
    "\n",
    "# Print the character frequencies\n",
    "for char, frequency in char_frequency.items():\n",
    "    print(f\"'{char}': {frequency} times\")"
   ]
  },
  {
   "cell_type": "code",
   "execution_count": null,
   "id": "cd311cbf-e645-4e98-afb2-af011f04d6a9",
   "metadata": {},
   "outputs": [],
   "source": [
    "37. Remove all punctuation from a string."
   ]
  },
  {
   "cell_type": "code",
   "execution_count": 23,
   "id": "bd201236-72ab-4708-929d-f80a5aec8a44",
   "metadata": {},
   "outputs": [
    {
     "name": "stdout",
     "output_type": "stream",
     "text": [
      "Cleaned string: Hello World This is a sample string\n"
     ]
    }
   ],
   "source": [
    "import string\n",
    "\n",
    "# Input string with punctuation\n",
    "input_string = \"Hello, World! This is a sample string.\"\n",
    "\n",
    "# Create a translation table to remove punctuation\n",
    "translator = str.maketrans('', '', string.punctuation)\n",
    "\n",
    "# Remove punctuation from the string\n",
    "cleaned_string = input_string.translate(translator)\n",
    "\n",
    "# Print the cleaned string\n",
    "print(\"Cleaned string:\", cleaned_string)"
   ]
  },
  {
   "cell_type": "code",
   "execution_count": null,
   "id": "9604407e-fa88-4fbf-ae36-7fe6a3323069",
   "metadata": {},
   "outputs": [],
   "source": [
    "38. Check if a string contains only digits."
   ]
  },
  {
   "cell_type": "code",
   "execution_count": 24,
   "id": "b1ba55a4-0f4c-486b-8df1-7b3e0b3c6d3f",
   "metadata": {},
   "outputs": [
    {
     "name": "stdout",
     "output_type": "stream",
     "text": [
      "The string contains only digits.\n"
     ]
    }
   ],
   "source": [
    "# Input string\n",
    "input_string = \"12345\"\n",
    "\n",
    "# Check if the string contains only digits\n",
    "if input_string.isdigit():\n",
    "    print(\"The string contains only digits.\")\n",
    "else:\n",
    "    print(\"The string does not contain only digits.\")"
   ]
  },
  {
   "cell_type": "code",
   "execution_count": null,
   "id": "01648bff-da58-4cbf-b3db-8b7b975110fa",
   "metadata": {},
   "outputs": [],
   "source": [
    "39. Check if a string contains only alphabets."
   ]
  },
  {
   "cell_type": "code",
   "execution_count": 25,
   "id": "e6e8a341-fe30-4e0e-aa40-2fe0d6c1d9ac",
   "metadata": {},
   "outputs": [
    {
     "name": "stdout",
     "output_type": "stream",
     "text": [
      "The string contains only alphabetic characters.\n"
     ]
    }
   ],
   "source": [
    "# Input string\n",
    "input_string = \"Hello\"\n",
    "\n",
    "# Check if the string contains only alphabetic characters\n",
    "if input_string.isalpha():\n",
    "    print(\"The string contains only alphabetic characters.\")\n",
    "else:\n",
    "    print(\"The string does not contain only alphabetic characters.\")"
   ]
  },
  {
   "cell_type": "code",
   "execution_count": null,
   "id": "088f36ec-8a3d-45cd-9f51-7262c2f21279",
   "metadata": {},
   "outputs": [],
   "source": [
    "40. Convert a string to a list of characters."
   ]
  },
  {
   "cell_type": "code",
   "execution_count": 26,
   "id": "c846ad63-df89-47a0-9fd1-97de88bdeae9",
   "metadata": {},
   "outputs": [
    {
     "name": "stdout",
     "output_type": "stream",
     "text": [
      "List of characters: ['H', 'e', 'l', 'l', 'o', ',', ' ', 'W', 'o', 'r', 'l', 'd', '!']\n"
     ]
    }
   ],
   "source": [
    "# Input string\n",
    "input_string = \"Hello, World!\"\n",
    "\n",
    "# Convert the string to a list of characters\n",
    "character_list = [char for char in input_string]\n",
    "\n",
    "# Print the list of characters\n",
    "print(\"List of characters:\", character_list)"
   ]
  },
  {
   "cell_type": "code",
   "execution_count": null,
   "id": "687eaee4-2e83-4f93-b038-36846a4c1864",
   "metadata": {},
   "outputs": [],
   "source": [
    "41. Check if two strings are anagrams."
   ]
  },
  {
   "cell_type": "code",
   "execution_count": 27,
   "id": "da5aabe6-6f4d-4c7c-8adb-0301794e74bd",
   "metadata": {},
   "outputs": [
    {
     "name": "stdout",
     "output_type": "stream",
     "text": [
      "The two strings are anagrams.\n"
     ]
    }
   ],
   "source": [
    "def are_anagrams(str1, str2):\n",
    "    # Remove spaces and convert to lowercase\n",
    "    str1 = str1.replace(\" \", \"\").lower()\n",
    "    str2 = str2.replace(\" \", \"\").lower()\n",
    "\n",
    "    # Check if the sorted characters of both strings are the same\n",
    "    return sorted(str1) == sorted(str2)\n",
    "\n",
    "# Example usage:\n",
    "string1 = \"Listen\"\n",
    "string2 = \"Silent\"\n",
    "\n",
    "if are_anagrams(string1, string2):\n",
    "    print(\"The two strings are anagrams.\")\n",
    "else:\n",
    "    print(\"The two strings are not anagrams.\")"
   ]
  },
  {
   "cell_type": "code",
   "execution_count": null,
   "id": "b244dc7b-425d-4a8c-8682-e057ae18c096",
   "metadata": {},
   "outputs": [],
   "source": [
    "42. Encode a string using a Caesar cipher."
   ]
  },
  {
   "cell_type": "code",
   "execution_count": 28,
   "id": "7ed8f968-5829-4624-974d-21a08323c7ba",
   "metadata": {},
   "outputs": [
    {
     "name": "stdout",
     "output_type": "stream",
     "text": [
      "Encoded text: Khoor, Zruog!\n"
     ]
    }
   ],
   "source": [
    "def caesar_cipher(text, shift):\n",
    "    encoded_text = \"\"\n",
    "    \n",
    "    for char in text:\n",
    "        if char.isalpha():  # Check if the character is a letter\n",
    "            shift_amount = 65 if char.isupper() else 97  # ASCII code for 'A' or 'a'\n",
    "            encoded_char = chr((ord(char) - shift_amount + shift) % 26 + shift_amount)\n",
    "            encoded_text += encoded_char\n",
    "        else:\n",
    "            encoded_text += char  # Non-alphabet characters remain unchanged\n",
    "\n",
    "    return encoded_text\n",
    "\n",
    "# Example usage:\n",
    "text = \"Hello, World!\"\n",
    "shift = 3\n",
    "\n",
    "encoded_text = caesar_cipher(text, shift)\n",
    "print(\"Encoded text:\", encoded_text)"
   ]
  },
  {
   "cell_type": "code",
   "execution_count": null,
   "id": "71ef5037-75a3-4555-9ab1-8028506bdd0a",
   "metadata": {},
   "outputs": [],
   "source": [
    "43. Decode a Caesar cipher encoded string."
   ]
  },
  {
   "cell_type": "code",
   "execution_count": 29,
   "id": "6d6d82da-b292-4bcd-96dc-6980d4a0bbb7",
   "metadata": {},
   "outputs": [
    {
     "name": "stdout",
     "output_type": "stream",
     "text": [
      "Decoded text: Hello, World!\n"
     ]
    }
   ],
   "source": [
    "def caesar_decipher(encoded_text, shift):\n",
    "    decoded_text = \"\"\n",
    "    \n",
    "    for char in encoded_text:\n",
    "        if char.isalpha():  # Check if the character is a letter\n",
    "            shift_amount = 65 if char.isupper() else 97  # ASCII code for 'A' or 'a'\n",
    "            decoded_char = chr((ord(char) - shift_amount - shift) % 26 + shift_amount)\n",
    "            decoded_text += decoded_char\n",
    "        else:\n",
    "            decoded_text += char  # Non-alphabet characters remain unchanged\n",
    "\n",
    "    return decoded_text\n",
    "\n",
    "# Example usage:\n",
    "encoded_text = \"Khoor, Zruog!\"\n",
    "shift = 3\n",
    "\n",
    "decoded_text = caesar_decipher(encoded_text, shift)\n",
    "print(\"Decoded text:\", decoded_text)"
   ]
  },
  {
   "cell_type": "code",
   "execution_count": null,
   "id": "975365eb-3e17-42a4-9ad4-83b7a115fbd6",
   "metadata": {},
   "outputs": [],
   "source": [
    "44. Find the most frequent word in a string."
   ]
  },
  {
   "cell_type": "code",
   "execution_count": 30,
   "id": "01c76620-cfd6-4bb8-af4c-9aa8e7697a24",
   "metadata": {},
   "outputs": [
    {
     "name": "stdout",
     "output_type": "stream",
     "text": [
      "The most common word is 'this' with a frequency of 2 times.\n"
     ]
    }
   ],
   "source": [
    "from collections import Counter\n",
    "import re\n",
    "\n",
    "def most_frequent_word(input_string):\n",
    "    # Convert the string to lowercase and split it into words\n",
    "    words = re.findall(r'\\w+', input_string.lower())\n",
    "\n",
    "    # Use Counter to count the frequency of each word\n",
    "    word_count = Counter(words)\n",
    "\n",
    "    # Find the most common word\n",
    "    most_common_word, frequency = word_count.most_common(1)[0]\n",
    "\n",
    "    return most_common_word, frequency\n",
    "\n",
    "# Example usage:\n",
    "text = \"This is a sample string. This string contains some sample words. Is it the most common word?\"\n",
    "\n",
    "most_common, frequency = most_frequent_word(text)\n",
    "print(f\"The most common word is '{most_common}' with a frequency of {frequency} times.\")"
   ]
  },
  {
   "cell_type": "code",
   "execution_count": null,
   "id": "b8002d39-9651-47cf-8f9a-e98a96952bf3",
   "metadata": {},
   "outputs": [],
   "source": [
    "45. Find all unique words in a string."
   ]
  },
  {
   "cell_type": "code",
   "execution_count": 31,
   "id": "0d2be7a2-e431-495c-81fe-4c399ff73b27",
   "metadata": {},
   "outputs": [
    {
     "name": "stdout",
     "output_type": "stream",
     "text": [
      "Unique words: {'this', 'is', 'words', 'some', 'sample', 'contains', 'string', 'a'}\n"
     ]
    }
   ],
   "source": [
    "import re\n",
    "\n",
    "def unique_words(input_string):\n",
    "    # Use regular expressions to extract words and convert them to lowercase\n",
    "    words = re.findall(r'\\w+', input_string.lower())\n",
    "\n",
    "    # Create a set to store unique words\n",
    "    unique_word_set = set(words)\n",
    "\n",
    "    return unique_word_set\n",
    "\n",
    "# Example usage:\n",
    "text = \"This is a sample string. This string contains some sample words.\"\n",
    "\n",
    "unique_words_set = unique_words(text)\n",
    "print(\"Unique words:\", unique_words_set)"
   ]
  },
  {
   "cell_type": "code",
   "execution_count": null,
   "id": "4392c99e-734b-41b7-b488-819454a74e17",
   "metadata": {},
   "outputs": [],
   "source": [
    "46. Count the number of syllables in a string."
   ]
  },
  {
   "cell_type": "code",
   "execution_count": 32,
   "id": "5dd040e1-7c0b-4aa1-a407-7471b3630976",
   "metadata": {},
   "outputs": [
    {
     "name": "stdout",
     "output_type": "stream",
     "text": [
      "The word 'elephant' has 3 syllables.\n"
     ]
    }
   ],
   "source": [
    "def count_syllables(word):\n",
    "    # Convert the word to lowercase\n",
    "    word = word.lower()\n",
    "\n",
    "    # List of common syllable prefixes and suffixes\n",
    "    prefixes = ['auto', 'micro', 'photo', 'tele', 'un', 'pre']\n",
    "    suffixes = ['ology', 'ologist', 'ious', 'tion', 'sion']\n",
    "\n",
    "    # Initialize the syllable count\n",
    "    syllable_count = 0\n",
    "\n",
    "    # Check for prefixes and suffixes\n",
    "    for prefix in prefixes:\n",
    "        if word.startswith(prefix):\n",
    "            word = word[len(prefix):]\n",
    "    \n",
    "    for suffix in suffixes:\n",
    "        if word.endswith(suffix):\n",
    "            word = word[:-len(suffix)]\n",
    "    \n",
    "    # Count the number of vowel sequences\n",
    "    is_vowel = False\n",
    "    for char in word:\n",
    "        if char in 'aeiouy':\n",
    "            if not is_vowel:\n",
    "                syllable_count += 1\n",
    "            is_vowel = True\n",
    "        else:\n",
    "            is_vowel = False\n",
    "    \n",
    "    # Adjust for words ending in 'e'\n",
    "    if word.endswith('e') and not word.endswith('le'):\n",
    "        syllable_count -= 1\n",
    "\n",
    "    # Ensure at least one syllable for short words\n",
    "    if syllable_count == 0:\n",
    "        syllable_count = 1\n",
    "\n",
    "    return syllable_count\n",
    "\n",
    "# Example usage:\n",
    "word = \"elephant\"\n",
    "syllables = count_syllables(word)\n",
    "print(f\"The word '{word}' has {syllables} syllables.\")"
   ]
  },
  {
   "cell_type": "code",
   "execution_count": null,
   "id": "e4c422f9-d407-4532-afbe-eb1d7ab4b1ef",
   "metadata": {},
   "outputs": [],
   "source": [
    "47. Check if a string contains any special characters."
   ]
  },
  {
   "cell_type": "code",
   "execution_count": 33,
   "id": "02e474ec-aab9-42b5-8505-8e7af86a67be",
   "metadata": {},
   "outputs": [
    {
     "name": "stdout",
     "output_type": "stream",
     "text": [
      "The string contains special characters.\n"
     ]
    }
   ],
   "source": [
    "import re\n",
    "\n",
    "def contains_special_characters(input_string):\n",
    "    # Define a regular expression pattern to match special characters\n",
    "    pattern = r'[!@#$%^&*()_+{}\\[\\]:;\"<>,.?/\\|\\\\`~]'\n",
    "\n",
    "    # Use re.search() to find a match in the input string\n",
    "    match = re.search(pattern, input_string)\n",
    "\n",
    "    # If a match is found, return True (special characters found); otherwise, return False\n",
    "    return match is not None\n",
    "\n",
    "# Example usage:\n",
    "text = \"This is a string without special characters.\"\n",
    "if contains_special_characters(text):\n",
    "    print(\"The string contains special characters.\")\n",
    "else:\n",
    "    print(\"The string does not contain special characters.\")"
   ]
  },
  {
   "cell_type": "code",
   "execution_count": null,
   "id": "6ad46628-fdeb-477e-8b6e-369f555e81a7",
   "metadata": {},
   "outputs": [],
   "source": [
    "48. Remove the nth word from a string."
   ]
  },
  {
   "cell_type": "code",
   "execution_count": 34,
   "id": "29fdb338-ff19-49d9-b960-8f47d62c90fb",
   "metadata": {},
   "outputs": [
    {
     "name": "stdout",
     "output_type": "stream",
     "text": [
      "Result: This is a sample Remove the nth word.\n"
     ]
    }
   ],
   "source": [
    "def remove_nth_word(input_string, n):\n",
    "    # Split the input string into words\n",
    "    words = input_string.split()\n",
    "\n",
    "    # Check if the specified index n is valid\n",
    "    if 0 <= n < len(words):\n",
    "        # Remove the nth word\n",
    "        del words[n]\n",
    "\n",
    "        # Join the words back together\n",
    "        result_string = \" \".join(words)\n",
    "\n",
    "        return result_string\n",
    "    else:\n",
    "        return \"Invalid index\"\n",
    "\n",
    "# Example usage:\n",
    "text = \"This is a sample sentence. Remove the nth word.\"\n",
    "n = 4  # Specify the word index to be removed (0-based)\n",
    "\n",
    "result = remove_nth_word(text, n)\n",
    "print(\"Result:\", result)"
   ]
  },
  {
   "cell_type": "code",
   "execution_count": null,
   "id": "7f0a37d7-41e3-4bcb-bbe3-9c532e18d0ab",
   "metadata": {},
   "outputs": [],
   "source": [
    "49. Insert a word at the nth position in a string."
   ]
  },
  {
   "cell_type": "code",
   "execution_count": 35,
   "id": "e8b6f3f4-0bdb-4303-b039-43f95a691d23",
   "metadata": {},
   "outputs": [
    {
     "name": "stdout",
     "output_type": "stream",
     "text": [
      "Result: This is a sample new sentence. Insert at nth position.\n"
     ]
    }
   ],
   "source": [
    "def insert_word_at_nth_position(input_string, word_to_insert, n):\n",
    "    # Split the input string into words\n",
    "    words = input_string.split()\n",
    "\n",
    "    # Check if the specified index n is valid\n",
    "    if 0 <= n <= len(words):\n",
    "        # Insert the word at the nth position\n",
    "        words.insert(n, word_to_insert)\n",
    "\n",
    "        # Join the words back together\n",
    "        result_string = \" \".join(words)\n",
    "\n",
    "        return result_string\n",
    "    else:\n",
    "        return \"Invalid index\"\n",
    "\n",
    "# Example usage:\n",
    "text = \"This is a sample sentence. Insert at nth position.\"\n",
    "word_to_insert = \"new\"\n",
    "n = 4  # Specify the position to insert the word (0-based)\n",
    "\n",
    "result = insert_word_at_nth_position(text, word_to_insert, n)\n",
    "print(\"Result:\", result)"
   ]
  },
  {
   "cell_type": "code",
   "execution_count": null,
   "id": "1cdc4cd4-0eea-4a0e-a8fa-8494db4dac6b",
   "metadata": {},
   "outputs": [],
   "source": [
    "50. Convert a CSV string to a list of lists."
   ]
  },
  {
   "cell_type": "code",
   "execution_count": 36,
   "id": "f2cc6eb1-b381-4b07-8f27-030d37e47569",
   "metadata": {},
   "outputs": [
    {
     "name": "stdout",
     "output_type": "stream",
     "text": [
      "['Name', 'Age', 'Location']\n",
      "['John', '30', 'New York']\n",
      "['Alice', '25', 'Los Angeles']\n",
      "['Bob', '35', 'Chicago']\n"
     ]
    }
   ],
   "source": [
    "import csv\n",
    "from io import StringIO\n",
    "\n",
    "def csv_string_to_list(csv_string):\n",
    "    # Create a CSV reader for the input CSV string\n",
    "    csv_reader = csv.reader(StringIO(csv_string))\n",
    "\n",
    "    # Convert the CSV data into a list of lists\n",
    "    csv_data = [row for row in csv_reader]\n",
    "\n",
    "    return csv_data\n",
    "\n",
    "# Example usage:\n",
    "csv_string = \"Name,Age,Location\\nJohn,30,New York\\nAlice,25,Los Angeles\\nBob,35,Chicago\"\n",
    "\n",
    "csv_list = csv_string_to_list(csv_string)\n",
    "for row in csv_list:\n",
    "    print(row)"
   ]
  },
  {
   "cell_type": "code",
   "execution_count": null,
   "id": "e9f381d4-3cbb-4ffa-b716-2821b671b4c4",
   "metadata": {},
   "outputs": [],
   "source": [
    "List based practice problem :"
   ]
  },
  {
   "cell_type": "code",
   "execution_count": null,
   "id": "c97ff575-afe3-4c4c-b62b-2f95b03fb073",
   "metadata": {},
   "outputs": [],
   "source": [
    "1. Create a list with integers from 1 to 10."
   ]
  },
  {
   "cell_type": "code",
   "execution_count": 3,
   "id": "0e8193fa-3c06-4e6c-967b-0b4229e26286",
   "metadata": {},
   "outputs": [
    {
     "name": "stdout",
     "output_type": "stream",
     "text": [
      "[1, 2, 3, 4, 5, 6, 7, 8, 9, 10]\n"
     ]
    }
   ],
   "source": [
    "list1 = [i for i in range(1, 11)]\n",
    "print(list1)"
   ]
  },
  {
   "cell_type": "code",
   "execution_count": null,
   "id": "9d95f111-ce26-4c8f-ab46-9d51cfa00cd6",
   "metadata": {},
   "outputs": [],
   "source": [
    "2. Find the length of a list without using the len() function."
   ]
  },
  {
   "cell_type": "code",
   "execution_count": 4,
   "id": "edd66df2-3b8c-4a45-abe6-87c83baa2ab7",
   "metadata": {},
   "outputs": [
    {
     "name": "stdout",
     "output_type": "stream",
     "text": [
      "10\n"
     ]
    }
   ],
   "source": [
    "def find_length_of_list(list1):\n",
    "  count = 0\n",
    "  for i in list1:\n",
    "    count += 1\n",
    "  return count\n",
    "\n",
    "list1 = [i for i in range(1, 11)]\n",
    "\n",
    "length = find_length_of_list(list1)\n",
    "\n",
    "print(length)"
   ]
  },
  {
   "cell_type": "code",
   "execution_count": null,
   "id": "2a9a5c5e-bbda-43b7-87f0-904f3f9246c1",
   "metadata": {},
   "outputs": [],
   "source": [
    "3. Append an element to the end of a list."
   ]
  },
  {
   "cell_type": "code",
   "execution_count": 5,
   "id": "3c67fbed-cb80-464a-a6e5-248be86dec07",
   "metadata": {},
   "outputs": [
    {
     "name": "stdout",
     "output_type": "stream",
     "text": [
      "[1, 2, 3, 4, 5, 6]\n"
     ]
    }
   ],
   "source": [
    "my_list = [1, 2, 3, 4, 5]  # Your existing list\n",
    "\n",
    "# Append an element to the end of the list\n",
    "my_list.append(6)\n",
    "\n",
    "print(my_list)  # Output: [1, 2, 3, 4, 5, 6]"
   ]
  },
  {
   "cell_type": "code",
   "execution_count": null,
   "id": "c45fe8d2-4f39-4f73-951a-5007ec27d30e",
   "metadata": {},
   "outputs": [],
   "source": [
    "4. Insert an element at a specific index in a list."
   ]
  },
  {
   "cell_type": "code",
   "execution_count": 6,
   "id": "09c5eda6-3bbf-4f79-b3bc-102dfae15391",
   "metadata": {},
   "outputs": [
    {
     "name": "stdout",
     "output_type": "stream",
     "text": [
      "[1, 2, 6, 3, 4, 5]\n"
     ]
    }
   ],
   "source": [
    "my_list = [1, 2, 3, 4, 5]  # Your existing list\n",
    "\n",
    "# Insert an element (e.g., 6) at a specific index (e.g., index 2)\n",
    "my_list.insert(2, 6)\n",
    "\n",
    "print(my_list)  # Output: [1, 2, 6, 3, 4, 5]"
   ]
  },
  {
   "cell_type": "code",
   "execution_count": null,
   "id": "1ec18e8b-e461-4ad0-99b4-865a6e272fa6",
   "metadata": {},
   "outputs": [],
   "source": [
    "5. Remove an element from a list by its value."
   ]
  },
  {
   "cell_type": "code",
   "execution_count": 7,
   "id": "6a2a600b-5ba8-4e3b-8f4f-e518a6632b16",
   "metadata": {},
   "outputs": [
    {
     "name": "stdout",
     "output_type": "stream",
     "text": [
      "[1, 2, 4, 5]\n"
     ]
    }
   ],
   "source": [
    "my_list = [1, 2, 3, 4, 5]  # Your existing list\n",
    "\n",
    "# Remove an element by its value (e.g., remove the element 3)\n",
    "my_list.remove(3)\n",
    "\n",
    "print(my_list)  # Output: [1, 2, 4, 5]"
   ]
  },
  {
   "cell_type": "code",
   "execution_count": null,
   "id": "6e8c7c91-dfb4-405e-81a3-df7921c7acdc",
   "metadata": {},
   "outputs": [],
   "source": [
    "6. Remove an element from a list by its index."
   ]
  },
  {
   "cell_type": "code",
   "execution_count": 8,
   "id": "a7017757-7654-48fe-9c24-41d279c57209",
   "metadata": {},
   "outputs": [
    {
     "name": "stdout",
     "output_type": "stream",
     "text": [
      "[1, 2, 3, 4]\n"
     ]
    }
   ],
   "source": [
    "my_list = [1, 2, 3, 4, 5]\n",
    "\n",
    "# Remove the last element\n",
    "my_list.pop()\n",
    "\n",
    "print(my_list)  # Output: [1, 2, 3, 4]"
   ]
  },
  {
   "cell_type": "code",
   "execution_count": null,
   "id": "d9edad21-ed92-4b95-a1fe-6025ce64c1f9",
   "metadata": {},
   "outputs": [],
   "source": [
    "7. Check if an element exists in a list."
   ]
  },
  {
   "cell_type": "code",
   "execution_count": 9,
   "id": "1a623312-243e-4ed5-ac2e-7f94a3cab610",
   "metadata": {},
   "outputs": [
    {
     "name": "stdout",
     "output_type": "stream",
     "text": [
      "3 exists in the list.\n"
     ]
    }
   ],
   "source": [
    "my_list = [1, 2, 3, 4, 5]\n",
    "\n",
    "# Check if an element exists in the list\n",
    "element_to_check = 3\n",
    "if element_to_check in my_list:\n",
    "    print(f\"{element_to_check} exists in the list.\")\n",
    "else:\n",
    "    print(f\"{element_to_check} does not exist in the list.\")"
   ]
  },
  {
   "cell_type": "code",
   "execution_count": null,
   "id": "ff15f8e2-499e-4266-bbc4-bee8880b463d",
   "metadata": {},
   "outputs": [],
   "source": [
    "8. Find the index of the first occurrence of an element in a list."
   ]
  },
  {
   "cell_type": "code",
   "execution_count": 10,
   "id": "c7bf9cb3-3bdc-4299-840b-2d10d4182829",
   "metadata": {},
   "outputs": [
    {
     "name": "stdout",
     "output_type": "stream",
     "text": [
      "The index of 3 is: 2\n"
     ]
    }
   ],
   "source": [
    "my_list = [1, 2, 3, 4, 5, 3]\n",
    "\n",
    "# Find the index of the first occurrence of an element (e.g., element 3)\n",
    "element_to_find = 3\n",
    "index = my_list.index(element_to_find)\n",
    "\n",
    "print(f\"The index of {element_to_find} is: {index}\")"
   ]
  },
  {
   "cell_type": "code",
   "execution_count": null,
   "id": "b1bbdcc0-46e2-497f-b6ea-0a71f0baa69b",
   "metadata": {},
   "outputs": [],
   "source": [
    "9. Count the occurrences of an element in a list."
   ]
  },
  {
   "cell_type": "code",
   "execution_count": 11,
   "id": "2a4a4c4d-ceb8-4d9d-9592-d1a3310bd641",
   "metadata": {},
   "outputs": [
    {
     "name": "stdout",
     "output_type": "stream",
     "text": [
      "3 appears 3 times in the list.\n"
     ]
    }
   ],
   "source": [
    "my_list = [1, 2, 3, 4, 5, 3, 3]\n",
    "\n",
    "# Count the occurrences of an element (e.g., count the number of times 3 appears)\n",
    "element_to_count = 3\n",
    "count = my_list.count(element_to_count)\n",
    "\n",
    "print(f\"{element_to_count} appears {count} times in the list.\")"
   ]
  },
  {
   "cell_type": "code",
   "execution_count": null,
   "id": "bc26d9a2-c426-490d-8592-361d477d67d7",
   "metadata": {},
   "outputs": [],
   "source": [
    "10. Reverse the order of elements in a list."
   ]
  },
  {
   "cell_type": "code",
   "execution_count": 12,
   "id": "57d448f7-e4e3-47d9-94fc-c69ddeef6bf5",
   "metadata": {},
   "outputs": [
    {
     "name": "stdout",
     "output_type": "stream",
     "text": [
      "[5, 4, 3, 2, 1]\n"
     ]
    }
   ],
   "source": [
    "my_list = [1, 2, 3, 4, 5]\n",
    "\n",
    "# Reverse the order of elements in the list in-place\n",
    "my_list.reverse()\n",
    "\n",
    "print(my_list)  # Output: [5, 4, 3, 2, 1]"
   ]
  },
  {
   "cell_type": "code",
   "execution_count": null,
   "id": "e6175ebb-3007-4c26-94cd-5b702e2b2433",
   "metadata": {},
   "outputs": [],
   "source": [
    "11. Sort a list in ascending order."
   ]
  },
  {
   "cell_type": "code",
   "execution_count": 13,
   "id": "a80f1daf-31ac-498d-ae2b-3a5069edf30c",
   "metadata": {},
   "outputs": [
    {
     "name": "stdout",
     "output_type": "stream",
     "text": [
      "[1, 2, 3, 4, 5]\n"
     ]
    }
   ],
   "source": [
    "my_list = [5, 1, 4, 3, 2]\n",
    "\n",
    "# Sort the list in ascending order in-place\n",
    "my_list.sort()\n",
    "\n",
    "print(my_list)  # Output: [1, 2, 3, 4, 5]"
   ]
  },
  {
   "cell_type": "code",
   "execution_count": null,
   "id": "afc8dca4-388e-4da1-a274-8ba88edabc6c",
   "metadata": {},
   "outputs": [],
   "source": [
    "12. Sort a list in descending order."
   ]
  },
  {
   "cell_type": "code",
   "execution_count": 14,
   "id": "8d70ccfb-7220-428f-be3b-f064795ce488",
   "metadata": {},
   "outputs": [
    {
     "name": "stdout",
     "output_type": "stream",
     "text": [
      "[5, 4, 3, 2, 1]\n"
     ]
    }
   ],
   "source": [
    "my_list = [5, 1, 4, 3, 2]\n",
    "\n",
    "# Create a new sorted list in descending order\n",
    "sorted_list = sorted(my_list, reverse=True)\n",
    "\n",
    "print(sorted_list)  # Output: [5, 4, 3, 2, 1]"
   ]
  },
  {
   "cell_type": "code",
   "execution_count": null,
   "id": "c8850d9e-1f98-4b58-8aa4-a31902fd6fae",
   "metadata": {},
   "outputs": [],
   "source": [
    "13. Create a list of even numbers from 1 to 20."
   ]
  },
  {
   "cell_type": "code",
   "execution_count": 15,
   "id": "c007fd39-6683-4398-896a-bb1c5be918f7",
   "metadata": {},
   "outputs": [
    {
     "name": "stdout",
     "output_type": "stream",
     "text": [
      "[2, 4, 6, 8, 10, 12, 14, 16, 18, 20]\n"
     ]
    }
   ],
   "source": [
    "even_numbers = [x for x in range(2, 21, 2)]\n",
    "\n",
    "print(even_numbers)"
   ]
  },
  {
   "cell_type": "code",
   "execution_count": null,
   "id": "bcf624f0-b4a3-4b04-88ec-5d564ece02e0",
   "metadata": {},
   "outputs": [],
   "source": [
    "14. Create a list of odd numbers from 1 to 20."
   ]
  },
  {
   "cell_type": "code",
   "execution_count": 16,
   "id": "41e0f955-837d-4055-be1c-b486e83d29aa",
   "metadata": {},
   "outputs": [
    {
     "name": "stdout",
     "output_type": "stream",
     "text": [
      "[1, 3, 5, 7, 9, 11, 13, 15, 17, 19]\n"
     ]
    }
   ],
   "source": [
    "odd_numbers = [x for x in range(1, 21) if x % 2 != 0]\n",
    "\n",
    "print(odd_numbers)"
   ]
  },
  {
   "cell_type": "code",
   "execution_count": null,
   "id": "deb7a96e-a8ce-4191-aacc-201e9b241f3b",
   "metadata": {},
   "outputs": [],
   "source": [
    "15. Find the sum of all elements in a list."
   ]
  },
  {
   "cell_type": "code",
   "execution_count": 17,
   "id": "b707be4c-453e-46c2-a524-950cde490ad9",
   "metadata": {},
   "outputs": [
    {
     "name": "stdout",
     "output_type": "stream",
     "text": [
      "The sum of all elements in the list is: 15\n"
     ]
    }
   ],
   "source": [
    "my_list = [1, 2, 3, 4, 5]\n",
    "\n",
    "# Find the sum of all elements in the list\n",
    "total_sum = sum(my_list)\n",
    "\n",
    "print(f\"The sum of all elements in the list is: {total_sum}\")"
   ]
  },
  {
   "cell_type": "code",
   "execution_count": null,
   "id": "090e3c4d-8dd5-46b6-8f3c-5092326e29fd",
   "metadata": {},
   "outputs": [],
   "source": [
    "16. Find the maximum value in a list."
   ]
  },
  {
   "cell_type": "code",
   "execution_count": 18,
   "id": "362b0fc5-5cbe-4351-8826-75832f919422",
   "metadata": {},
   "outputs": [
    {
     "name": "stdout",
     "output_type": "stream",
     "text": [
      "The maximum value in the list is: 56\n"
     ]
    }
   ],
   "source": [
    "my_list = [12, 45, 7, 23, 56, 14]\n",
    "\n",
    "# Find the maximum value in the list\n",
    "max_value = max(my_list)\n",
    "\n",
    "print(f\"The maximum value in the list is: {max_value}\")"
   ]
  },
  {
   "cell_type": "code",
   "execution_count": null,
   "id": "352e09e2-df99-478e-9b02-88516d644618",
   "metadata": {},
   "outputs": [],
   "source": [
    "17. Find the minimum value in a list."
   ]
  },
  {
   "cell_type": "code",
   "execution_count": 19,
   "id": "ff798e39-19d1-4dae-9a70-7bdb44407077",
   "metadata": {},
   "outputs": [
    {
     "name": "stdout",
     "output_type": "stream",
     "text": [
      "The minimum value in the list is: 7\n"
     ]
    }
   ],
   "source": [
    "my_list = [12, 45, 7, 23, 56, 14]\n",
    "\n",
    "# Find the minimum value in the list\n",
    "min_value = min(my_list)\n",
    "\n",
    "print(f\"The minimum value in the list is: {min_value}\")\n"
   ]
  },
  {
   "cell_type": "code",
   "execution_count": null,
   "id": "70971ad9-a04e-4905-a43b-fbf084f3e5f1",
   "metadata": {},
   "outputs": [],
   "source": [
    "18. Create a list of squares of numbers from 1 to 10."
   ]
  },
  {
   "cell_type": "code",
   "execution_count": 20,
   "id": "74d3d975-1345-4e33-9348-0b50f6dc244f",
   "metadata": {},
   "outputs": [
    {
     "name": "stdout",
     "output_type": "stream",
     "text": [
      "[1, 4, 9, 16, 25, 36, 49, 64, 81, 100]\n"
     ]
    }
   ],
   "source": [
    "squares = [x ** 2 for x in range(1, 11)]\n",
    "\n",
    "print(squares)"
   ]
  },
  {
   "cell_type": "code",
   "execution_count": null,
   "id": "2ff815b9-46f3-477d-a6eb-48fa851f4eaa",
   "metadata": {},
   "outputs": [],
   "source": [
    "19. Create a list of random numbers."
   ]
  },
  {
   "cell_type": "code",
   "execution_count": 21,
   "id": "b16872be-c590-4967-a6df-ed7227a0de53",
   "metadata": {},
   "outputs": [
    {
     "name": "stdout",
     "output_type": "stream",
     "text": [
      "[9, 40, 4, 82, 69, 24, 54, 49, 73, 52]\n"
     ]
    }
   ],
   "source": [
    "import random\n",
    "\n",
    "# Create a list of 10 random integers between 1 and 100\n",
    "random_numbers = [random.randint(1, 100) for _ in range(10)]\n",
    "\n",
    "print(random_numbers)"
   ]
  },
  {
   "cell_type": "code",
   "execution_count": null,
   "id": "aee24aec-f051-4fb4-b2d6-7f567bf12794",
   "metadata": {},
   "outputs": [],
   "source": [
    "20. Remove duplicates from a list."
   ]
  },
  {
   "cell_type": "code",
   "execution_count": 22,
   "id": "19f68314-92f5-4400-8ca5-ee99b6c4574b",
   "metadata": {},
   "outputs": [
    {
     "name": "stdout",
     "output_type": "stream",
     "text": [
      "[1, 2, 3, 4, 5]\n"
     ]
    }
   ],
   "source": [
    "my_list = [1, 2, 2, 3, 4, 4, 5]\n",
    "\n",
    "# Remove duplicates and preserve the order\n",
    "new_list = []\n",
    "for item in my_list:\n",
    "    if item not in new_list:\n",
    "        new_list.append(item)\n",
    "\n",
    "print(new_list)  # Output: [1, 2, 3, 4, 5]"
   ]
  },
  {
   "cell_type": "code",
   "execution_count": null,
   "id": "577ea582-00cf-4784-b251-7f38406bad1e",
   "metadata": {},
   "outputs": [],
   "source": [
    "21. Find the common elements between two lists."
   ]
  },
  {
   "cell_type": "code",
   "execution_count": 23,
   "id": "ae047cea-9a89-4b09-ba04-c179024d1ab0",
   "metadata": {},
   "outputs": [
    {
     "name": "stdout",
     "output_type": "stream",
     "text": [
      "[3, 4, 5]\n"
     ]
    }
   ],
   "source": [
    "list1 = [1, 2, 3, 4, 5]\n",
    "list2 = [3, 4, 5, 6, 7]\n",
    "\n",
    "# Find common elements using list comprehension\n",
    "common_elements = [x for x in list1 if x in list2]\n",
    "\n",
    "print(common_elements)  # Output: [3, 4, 5]"
   ]
  },
  {
   "cell_type": "code",
   "execution_count": null,
   "id": "d7742e19-6f36-446c-a327-615301323793",
   "metadata": {},
   "outputs": [],
   "source": [
    "22. Find the difference between two lists."
   ]
  },
  {
   "cell_type": "code",
   "execution_count": 24,
   "id": "1fb81058-e116-40ee-b967-f5325279f595",
   "metadata": {},
   "outputs": [
    {
     "name": "stdout",
     "output_type": "stream",
     "text": [
      "[1, 2, 6, 7]\n"
     ]
    }
   ],
   "source": [
    "list1 = [1, 2, 3, 4, 5]\n",
    "list2 = [3, 4, 5, 6, 7]\n",
    "\n",
    "# Find elements unique to each list using list comprehension\n",
    "difference = [x for x in list1 if x not in list2] + [y for y in list2 if y not in list1]\n",
    "\n",
    "print(difference)  # Output: [1, 2, 6, 7]"
   ]
  },
  {
   "cell_type": "code",
   "execution_count": null,
   "id": "b3c3a6b6-eb77-4fdc-bc1a-7faa0e7baba7",
   "metadata": {},
   "outputs": [],
   "source": [
    "23. Merge two lists."
   ]
  },
  {
   "cell_type": "code",
   "execution_count": 25,
   "id": "e7d1557b-5cc5-445e-9520-2946cd9ad3c6",
   "metadata": {},
   "outputs": [
    {
     "name": "stdout",
     "output_type": "stream",
     "text": [
      "[1, 2, 3, 4, 5, 6]\n"
     ]
    }
   ],
   "source": [
    "list1 = [1, 2, 3]\n",
    "list2 = [4, 5, 6]\n",
    "\n",
    "# Merge the two lists using the + operator\n",
    "merged_list = list1 + list2\n",
    "\n",
    "print(merged_list)  # Output: [1, 2, 3, 4, 5, 6]"
   ]
  },
  {
   "cell_type": "code",
   "execution_count": null,
   "id": "7a45ed12-d68f-4742-9204-6c553c91cfbe",
   "metadata": {},
   "outputs": [],
   "source": [
    "24. Multiply all elements in a list by 2."
   ]
  },
  {
   "cell_type": "code",
   "execution_count": 26,
   "id": "7c452023-4c15-49b8-9835-f9024b941386",
   "metadata": {},
   "outputs": [
    {
     "name": "stdout",
     "output_type": "stream",
     "text": [
      "[2, 4, 6, 8, 10]\n"
     ]
    }
   ],
   "source": [
    "my_list = [1, 2, 3, 4, 5]\n",
    "\n",
    "# Multiply all elements by 2 using list comprehension\n",
    "doubled_list = [x * 2 for x in my_list]\n",
    "\n",
    "print(doubled_list)"
   ]
  },
  {
   "cell_type": "code",
   "execution_count": null,
   "id": "02dc495e-6e26-4e91-97a5-8f295d9c458c",
   "metadata": {},
   "outputs": [],
   "source": [
    "25. Filter out all even numbers from a list."
   ]
  },
  {
   "cell_type": "code",
   "execution_count": 27,
   "id": "1a1e10a6-4be9-4a42-b577-121790b67a44",
   "metadata": {},
   "outputs": [
    {
     "name": "stdout",
     "output_type": "stream",
     "text": [
      "[1, 3, 5, 7, 9]\n"
     ]
    }
   ],
   "source": [
    "my_list = [1, 2, 3, 4, 5, 6, 7, 8, 9]\n",
    "\n",
    "# Filter out even numbers using list comprehension\n",
    "filtered_list = [x for x in my_list if x % 2 != 0]\n",
    "\n",
    "print(filtered_list)"
   ]
  },
  {
   "cell_type": "code",
   "execution_count": null,
   "id": "907ed19b-447c-4f74-bb32-8e1a4d93263e",
   "metadata": {},
   "outputs": [],
   "source": [
    "26. Convert a list of strings to a list of integers."
   ]
  },
  {
   "cell_type": "code",
   "execution_count": 28,
   "id": "2d098fc1-4444-4785-95c0-ab0c0ec81ab3",
   "metadata": {},
   "outputs": [
    {
     "name": "stdout",
     "output_type": "stream",
     "text": [
      "[1, 2, 3, 4, 5]\n"
     ]
    }
   ],
   "source": [
    "string_list = [\"1\", \"2\", \"3\", \"4\", \"5\"]\n",
    "\n",
    "# Convert the list of strings to a list of integers using list comprehension\n",
    "integer_list = [int(x) for x in string_list]\n",
    "\n",
    "print(integer_list)"
   ]
  },
  {
   "cell_type": "code",
   "execution_count": null,
   "id": "627fc45d-fc77-4325-8532-433690e27512",
   "metadata": {},
   "outputs": [],
   "source": [
    "27. Convert a list of integers to a list of strings."
   ]
  },
  {
   "cell_type": "code",
   "execution_count": 29,
   "id": "52746ff7-1a2e-4f3d-8ec2-33fd67e32bca",
   "metadata": {},
   "outputs": [
    {
     "name": "stdout",
     "output_type": "stream",
     "text": [
      "['1', '2', '3', '4', '5']\n"
     ]
    }
   ],
   "source": [
    "integer_list = [1, 2, 3, 4, 5]\n",
    "\n",
    "# Convert the list of integers to a list of strings using map() and str()\n",
    "string_list = list(map(str, integer_list))\n",
    "\n",
    "print(string_list)"
   ]
  },
  {
   "cell_type": "code",
   "execution_count": null,
   "id": "484f6ace-ae59-4a6e-96e9-279d6fb1252b",
   "metadata": {},
   "outputs": [],
   "source": [
    "28. Flatten a nested list."
   ]
  },
  {
   "cell_type": "code",
   "execution_count": 30,
   "id": "f7d3e353-76a5-466b-9c26-54d932b8f731",
   "metadata": {},
   "outputs": [
    {
     "name": "stdout",
     "output_type": "stream",
     "text": [
      "[1, 2, 3, 4, 5, 6, 7, 8]\n"
     ]
    }
   ],
   "source": [
    "def flatten_list(nested_list):\n",
    "    flat_list = []\n",
    "    for item in nested_list:\n",
    "        if isinstance(item, list):\n",
    "            flat_list.extend(flatten_list(item))\n",
    "        else:\n",
    "            flat_list.append(item)\n",
    "    return flat_list\n",
    "\n",
    "nested_list = [1, [2, [3, 4], 5], 6, [7, 8]]\n",
    "\n",
    "flattened_list = flatten_list(nested_list)\n",
    "print(flattened_list)"
   ]
  },
  {
   "cell_type": "code",
   "execution_count": null,
   "id": "e85b51c3-b223-41ff-89f8-eefd0cf76efc",
   "metadata": {},
   "outputs": [],
   "source": [
    "29. Create a list of the first 10 Fibonacci numbers."
   ]
  },
  {
   "cell_type": "code",
   "execution_count": 31,
   "id": "155d56d7-1d42-44db-81a6-df67db8d3a70",
   "metadata": {},
   "outputs": [
    {
     "name": "stdout",
     "output_type": "stream",
     "text": [
      "[0, 1, 1, 2, 3, 5, 8, 13, 21, 34]\n"
     ]
    }
   ],
   "source": [
    "def fibonacci(n):\n",
    "  if n < 0:\n",
    "    raise ValueError(\"n must be a non-negative integer\")\n",
    "  elif n == 0 or n == 1:\n",
    "    return n\n",
    "  else:\n",
    "    return fibonacci(n - 1) + fibonacci(n - 2)\n",
    "\n",
    "# Generate the first 10 Fibonacci numbers\n",
    "fibonacci_numbers = []\n",
    "for i in range(10):\n",
    "  fibonacci_numbers.append(fibonacci(i))\n",
    "\n",
    "print(fibonacci_numbers)"
   ]
  },
  {
   "cell_type": "code",
   "execution_count": null,
   "id": "8e868ddc-3231-4967-a4ea-d489ff262548",
   "metadata": {},
   "outputs": [],
   "source": [
    "30. Check if a list is sorted."
   ]
  },
  {
   "cell_type": "code",
   "execution_count": 32,
   "id": "e95c2a88-4f4e-4fdd-a834-2585711096e7",
   "metadata": {},
   "outputs": [
    {
     "name": "stdout",
     "output_type": "stream",
     "text": [
      "The list is sorted.\n"
     ]
    }
   ],
   "source": [
    "my_list = [1, 2, 3, 4, 5]\n",
    "\n",
    "# Check if the list is sorted\n",
    "is_sorted = my_list == sorted(my_list)\n",
    "\n",
    "if is_sorted:\n",
    "    print(\"The list is sorted.\")\n",
    "else:\n",
    "    print(\"The list is not sorted.\")"
   ]
  },
  {
   "cell_type": "code",
   "execution_count": null,
   "id": "9a259131-4115-4d42-b672-004804b22db6",
   "metadata": {},
   "outputs": [],
   "source": [
    "31. Rotate a list to the left by n positions."
   ]
  },
  {
   "cell_type": "code",
   "execution_count": 33,
   "id": "b5b54a86-c62e-46e3-89b7-3904869d79e9",
   "metadata": {},
   "outputs": [
    {
     "name": "stdout",
     "output_type": "stream",
     "text": [
      "[3, 4, 5, 1, 2]\n"
     ]
    }
   ],
   "source": [
    "def rotate_left(lst, n):\n",
    "    if not lst:\n",
    "        return lst\n",
    "\n",
    "    n = n % len(lst)  # Ensure n is within the length of the list\n",
    "    return lst[n:] + lst[:n]\n",
    "\n",
    "my_list = [1, 2, 3, 4, 5]\n",
    "\n",
    "# Rotate the list to the left by 2 positions\n",
    "rotated_list = rotate_left(my_list, 2)\n",
    "\n",
    "print(rotated_list)  # Output: [3, 4, 5, 1, 2]"
   ]
  },
  {
   "cell_type": "code",
   "execution_count": null,
   "id": "e18c149d-ab74-47b6-90e9-bfe92ba262d4",
   "metadata": {},
   "outputs": [],
   "source": [
    "32. Rotate a list to the right by n positions."
   ]
  },
  {
   "cell_type": "code",
   "execution_count": 34,
   "id": "8594899b-a2d7-4f49-9b8e-c791cafb6c68",
   "metadata": {},
   "outputs": [
    {
     "name": "stdout",
     "output_type": "stream",
     "text": [
      "[4, 5, 1, 2, 3]\n"
     ]
    }
   ],
   "source": [
    "def rotate_right(lst, n):\n",
    "    if not lst:\n",
    "        return lst\n",
    "\n",
    "    n = n % len(lst)  # Ensure n is within the length of the list\n",
    "    return lst[-n:] + lst[:-n]\n",
    "\n",
    "my_list = [1, 2, 3, 4, 5]\n",
    "\n",
    "# Rotate the list to the right by 2 positions\n",
    "rotated_list = rotate_right(my_list, 2)\n",
    "\n",
    "print(rotated_list)  # Output: [4, 5, 1, 2, 3]"
   ]
  },
  {
   "cell_type": "code",
   "execution_count": null,
   "id": "f5b0e0a6-5ed2-49f2-a6d5-ff2f2eabb5c6",
   "metadata": {},
   "outputs": [],
   "source": [
    "33. Create a list of prime numbers up to 50."
   ]
  },
  {
   "cell_type": "code",
   "execution_count": 35,
   "id": "cc318c72-b907-464d-8f5d-bb379792295a",
   "metadata": {},
   "outputs": [
    {
     "name": "stdout",
     "output_type": "stream",
     "text": [
      "[2, 3, 5, 7, 11, 13, 17, 19, 23, 29, 31, 37, 41, 43, 47]\n"
     ]
    }
   ],
   "source": [
    "def is_prime(n):\n",
    "    if n <= 1:\n",
    "        return False\n",
    "    if n <= 3:\n",
    "        return True\n",
    "    if n % 2 == 0 or n % 3 == 0:\n",
    "        return False\n",
    "    i = 5\n",
    "    while i * i <= n:\n",
    "        if n % i == 0 or n % (i + 2) == 0:\n",
    "            return False\n",
    "        i += 6\n",
    "    return True\n",
    "\n",
    "# Create a list of prime numbers up to 50\n",
    "prime_numbers = [x for x in range(2, 51) if is_prime(x)]\n",
    "\n",
    "print(prime_numbers)"
   ]
  },
  {
   "cell_type": "code",
   "execution_count": null,
   "id": "c01a153c-625c-41ab-a3d2-614fd12ff4c6",
   "metadata": {},
   "outputs": [],
   "source": [
    "34. Split a list into chunks of size n."
   ]
  },
  {
   "cell_type": "code",
   "execution_count": 36,
   "id": "0c4f4640-2a52-4300-a728-d30db2c07eb2",
   "metadata": {},
   "outputs": [
    {
     "name": "stdout",
     "output_type": "stream",
     "text": [
      "[[1, 2, 3], [4, 5, 6], [7, 8, 9], [10]]\n"
     ]
    }
   ],
   "source": [
    "def split_list_into_chunks(lst, n):\n",
    "    for i in range(0, len(lst), n):\n",
    "        yield lst[i:i + n]\n",
    "\n",
    "my_list = [1, 2, 3, 4, 5, 6, 7, 8, 9, 10]\n",
    "\n",
    "# Split the list into chunks of size 3\n",
    "chunk_size = 3\n",
    "chunked_list = list(split_list_into_chunks(my_list, chunk_size))\n",
    "\n",
    "print(chunked_list)"
   ]
  },
  {
   "cell_type": "code",
   "execution_count": null,
   "id": "e460f065-6477-48d6-9e6c-a2ffe0084e8d",
   "metadata": {},
   "outputs": [],
   "source": [
    "35. Find the second largest number in a list."
   ]
  },
  {
   "cell_type": "code",
   "execution_count": 37,
   "id": "3300c229-9bd8-4cae-acb2-d98ae03861ed",
   "metadata": {},
   "outputs": [
    {
     "name": "stdout",
     "output_type": "stream",
     "text": [
      "The second largest number is: 45\n"
     ]
    }
   ],
   "source": [
    "my_list = [12, 45, 7, 23, 56, 14]\n",
    "\n",
    "# Find the second largest number in the list\n",
    "sorted_list = sorted(my_list)\n",
    "second_largest = sorted_list[-2]\n",
    "\n",
    "print(f\"The second largest number is: {second_largest}\")"
   ]
  },
  {
   "cell_type": "code",
   "execution_count": null,
   "id": "c86f5a3b-f4ed-4921-8a4b-bec94ff83833",
   "metadata": {},
   "outputs": [],
   "source": [
    "36. Replace every element in a list with its square."
   ]
  },
  {
   "cell_type": "code",
   "execution_count": 38,
   "id": "161d58b4-a38d-4069-9746-4d05060adf29",
   "metadata": {},
   "outputs": [
    {
     "name": "stdout",
     "output_type": "stream",
     "text": [
      "[1, 4, 9, 16, 25]\n"
     ]
    }
   ],
   "source": [
    "my_list = [1, 2, 3, 4, 5]\n",
    "\n",
    "# Replace each element with its square using a list comprehension\n",
    "squared_list = [x**2 for x in my_list]\n",
    "\n",
    "print(squared_list)"
   ]
  },
  {
   "cell_type": "code",
   "execution_count": null,
   "id": "73e7c952-eaca-4a97-b49e-c2aa89e11af4",
   "metadata": {},
   "outputs": [],
   "source": [
    "37. Convert a list to a dictionary where list elements become keys and their indices become values."
   ]
  },
  {
   "cell_type": "code",
   "execution_count": 39,
   "id": "badce4c3-0984-43e0-be87-e052b7a33739",
   "metadata": {},
   "outputs": [
    {
     "name": "stdout",
     "output_type": "stream",
     "text": [
      "{'apple': 0, 'banana': 1, 'cherry': 2, 'date': 3}\n"
     ]
    }
   ],
   "source": [
    "my_list = ['apple', 'banana', 'cherry', 'date']\n",
    "\n",
    "# Convert the list to a dictionary with elements as keys and indices as values\n",
    "my_dict = {value: index for index, value in enumerate(my_list)}\n",
    "\n",
    "print(my_dict)"
   ]
  },
  {
   "cell_type": "code",
   "execution_count": null,
   "id": "035a0177-ced3-4aea-96ad-d3cb30b15724",
   "metadata": {},
   "outputs": [],
   "source": [
    "38. Shuffle the elements of a list randomly."
   ]
  },
  {
   "cell_type": "code",
   "execution_count": 40,
   "id": "c7da59ee-d76e-4a6d-b722-2324786564de",
   "metadata": {},
   "outputs": [
    {
     "name": "stdout",
     "output_type": "stream",
     "text": [
      "[1, 4, 2, 3, 5]\n"
     ]
    }
   ],
   "source": [
    "import random\n",
    "\n",
    "my_list = [1, 2, 3, 4, 5]\n",
    "\n",
    "# Shuffle the list randomly\n",
    "random.shuffle(my_list)\n",
    "\n",
    "print(my_list)"
   ]
  },
  {
   "cell_type": "code",
   "execution_count": null,
   "id": "86149fc5-a47c-493b-9aa1-6e0ff58f43e3",
   "metadata": {},
   "outputs": [],
   "source": [
    "39. Create a list of the first 10 factorial numbers."
   ]
  },
  {
   "cell_type": "code",
   "execution_count": 41,
   "id": "1d807333-7a69-4c3f-83bf-da840c55f917",
   "metadata": {},
   "outputs": [
    {
     "name": "stdout",
     "output_type": "stream",
     "text": [
      "[1, 1, 2, 6, 24, 120, 720, 5040, 40320, 362880]\n"
     ]
    }
   ],
   "source": [
    "def factorial(n):\n",
    "    if n == 0:\n",
    "        return 1\n",
    "    else:\n",
    "        return n * factorial(n - 1)\n",
    "\n",
    "# Create a list of the first 10 factorial numbers\n",
    "factorial_numbers = [factorial(n) for n in range(10)]\n",
    "\n",
    "print(factorial_numbers)"
   ]
  },
  {
   "cell_type": "code",
   "execution_count": null,
   "id": "8fe8d0b9-ae19-4b70-a950-38f7ee032a99",
   "metadata": {},
   "outputs": [],
   "source": [
    "40. Check if two lists have at least one element in common."
   ]
  },
  {
   "cell_type": "code",
   "execution_count": 42,
   "id": "b397b458-c65e-4d75-b256-33a66563ce36",
   "metadata": {},
   "outputs": [
    {
     "name": "stdout",
     "output_type": "stream",
     "text": [
      "The lists have at least one common element.\n"
     ]
    }
   ],
   "source": [
    "list1 = [1, 2, 3, 4, 5]\n",
    "list2 = [4, 5, 6, 7, 8]\n",
    "\n",
    "# Check if the lists have at least one common element\n",
    "have_common_element = any(item in list1 for item in list2)\n",
    "\n",
    "if have_common_element:\n",
    "    print(\"The lists have at least one common element.\")\n",
    "else:\n",
    "    print(\"The lists do not have any common elements.\")"
   ]
  },
  {
   "cell_type": "code",
   "execution_count": null,
   "id": "23ba509a-1e21-480e-9c21-c75d57f5c979",
   "metadata": {},
   "outputs": [],
   "source": [
    "41. Remove all elements from a list."
   ]
  },
  {
   "cell_type": "code",
   "execution_count": 43,
   "id": "2d1f4076-bd7f-4947-bbd3-5b1ec378af04",
   "metadata": {},
   "outputs": [
    {
     "name": "stdout",
     "output_type": "stream",
     "text": [
      "[]\n"
     ]
    }
   ],
   "source": [
    "my_list = [1, 2, 3, 4, 5]\n",
    "\n",
    "# Remove all elements by assigning an empty list\n",
    "my_list = []\n",
    "\n",
    "print(my_list)  # Output: []"
   ]
  },
  {
   "cell_type": "code",
   "execution_count": null,
   "id": "ee8bfa14-c305-4983-ab89-b6eb7d695291",
   "metadata": {},
   "outputs": [],
   "source": [
    "42. Replace negative numbers in a list with 0."
   ]
  },
  {
   "cell_type": "code",
   "execution_count": 1,
   "id": "23ad0713-7fba-42f6-b67d-ec344121fa68",
   "metadata": {},
   "outputs": [
    {
     "name": "stdout",
     "output_type": "stream",
     "text": [
      "[1, 0, 3, 0, 5, 0]\n"
     ]
    }
   ],
   "source": [
    "my_list = [1, -2, 3, -4, 5, -6]\n",
    "\n",
    "# Replace negative numbers with 0 using a list comprehension\n",
    "new_list = [x if x >= 0 else 0 for x in my_list]\n",
    "\n",
    "print(new_list)"
   ]
  },
  {
   "cell_type": "code",
   "execution_count": null,
   "id": "ee19639d-9ef8-41c1-923f-c0b39a2d45b6",
   "metadata": {},
   "outputs": [],
   "source": [
    "43. Convert a string into a list of words."
   ]
  },
  {
   "cell_type": "code",
   "execution_count": 2,
   "id": "33654d33-ff29-4813-b411-84a2b3c94a90",
   "metadata": {},
   "outputs": [
    {
     "name": "stdout",
     "output_type": "stream",
     "text": [
      "['This', 'is', 'a', 'sample', 'string.']\n"
     ]
    }
   ],
   "source": [
    "my_string = \"This is a sample string.\"\n",
    "\n",
    "# Convert the string into a list of words\n",
    "word_list = my_string.split()\n",
    "\n",
    "print(word_list)"
   ]
  },
  {
   "cell_type": "code",
   "execution_count": null,
   "id": "e3525eac-0918-4185-8489-b0b824ba7988",
   "metadata": {},
   "outputs": [],
   "source": [
    "44. Convert a list of words into a string."
   ]
  },
  {
   "cell_type": "code",
   "execution_count": 3,
   "id": "df6af092-a65a-41a8-99d6-76d3ebdb64d2",
   "metadata": {},
   "outputs": [
    {
     "name": "stdout",
     "output_type": "stream",
     "text": [
      "This is a list of words\n"
     ]
    }
   ],
   "source": [
    "word_list = [\"This\", \"is\", \"a\", \"list\", \"of\", \"words\"]\n",
    "\n",
    "# Convert the list of words into a string\n",
    "my_string = \" \".join(word_list)\n",
    "\n",
    "print(my_string)"
   ]
  },
  {
   "cell_type": "code",
   "execution_count": null,
   "id": "e085aa87-fec0-4e93-bd59-646d002796f5",
   "metadata": {},
   "outputs": [],
   "source": [
    "45. Create a list of the first n powers of 2."
   ]
  },
  {
   "cell_type": "code",
   "execution_count": 4,
   "id": "ac0747c7-5a9f-4796-97f7-fa08ee1900cc",
   "metadata": {},
   "outputs": [
    {
     "name": "stdout",
     "output_type": "stream",
     "text": [
      "[1, 2, 4, 8, 16]\n"
     ]
    }
   ],
   "source": [
    "n = 5  # Change this to the desired number of powers of 2\n",
    "powers_of_2 = [2**i for i in range(n)]\n",
    "\n",
    "print(powers_of_2)"
   ]
  },
  {
   "cell_type": "code",
   "execution_count": null,
   "id": "f8ff8b54-1758-4cea-8530-392202da5cc9",
   "metadata": {},
   "outputs": [],
   "source": [
    "46. Find the longest string in a list of strings."
   ]
  },
  {
   "cell_type": "code",
   "execution_count": 5,
   "id": "f197bd6c-43ee-4cf5-9787-bb8c27f997e4",
   "metadata": {},
   "outputs": [
    {
     "name": "stdout",
     "output_type": "stream",
     "text": [
      "elderberry\n"
     ]
    }
   ],
   "source": [
    "string_list = [\"apple\", \"banana\", \"cherry\", \"date\", \"elderberry\"]\n",
    "\n",
    "# Find the longest string in the list\n",
    "longest_string = max(string_list, key=len)\n",
    "\n",
    "print(longest_string)"
   ]
  },
  {
   "cell_type": "code",
   "execution_count": null,
   "id": "552c6512-8466-4661-801f-e2f5f531fdc6",
   "metadata": {},
   "outputs": [],
   "source": [
    "47. Find the shortest string in a list of strings."
   ]
  },
  {
   "cell_type": "code",
   "execution_count": 6,
   "id": "6eb22353-0f6c-4eb3-9772-4053c59c4d29",
   "metadata": {},
   "outputs": [
    {
     "name": "stdout",
     "output_type": "stream",
     "text": [
      "date\n"
     ]
    }
   ],
   "source": [
    "string_list = [\"apple\", \"banana\", \"cherry\", \"date\", \"elderberry\"]\n",
    "\n",
    "# Find the shortest string in the list\n",
    "shortest_string = min(string_list, key=len)\n",
    "\n",
    "print(shortest_string)"
   ]
  },
  {
   "cell_type": "code",
   "execution_count": null,
   "id": "5c0db637-04f8-4527-8bf9-a6760bac7ddd",
   "metadata": {},
   "outputs": [],
   "source": [
    "48. Create a list of the first n triangular numbers."
   ]
  },
  {
   "cell_type": "code",
   "execution_count": 7,
   "id": "11e4512c-fcf9-4c8a-b777-e03bc22d76e6",
   "metadata": {},
   "outputs": [
    {
     "name": "stdout",
     "output_type": "stream",
     "text": [
      "[1, 3, 6, 10, 15]\n"
     ]
    }
   ],
   "source": [
    "n = 5  # Change this to the desired number of triangular numbers\n",
    "triangular_numbers = []\n",
    "\n",
    "for i in range(1, n + 1):\n",
    "    # Calculate the i-th triangular number\n",
    "    triangular_number = (i * (i + 1)) // 2\n",
    "    triangular_numbers.append(triangular_number)\n",
    "\n",
    "print(triangular_numbers)"
   ]
  },
  {
   "cell_type": "code",
   "execution_count": null,
   "id": "b6ae36e9-32aa-408d-b9be-9216f97cd833",
   "metadata": {},
   "outputs": [],
   "source": [
    "49. Check if a list contains another list as a subsequence."
   ]
  },
  {
   "cell_type": "code",
   "execution_count": 8,
   "id": "aa7b73f6-abc1-4ead-8be2-90ac706aecf3",
   "metadata": {},
   "outputs": [
    {
     "name": "stdout",
     "output_type": "stream",
     "text": [
      "The sub_list is a subsequence of main_list.\n"
     ]
    }
   ],
   "source": [
    "def is_subsequence(sub, main):\n",
    "    i, j = 0, 0\n",
    "\n",
    "    while i < len(main) and j < len(sub):\n",
    "        if main[i] == sub[j]:\n",
    "            j += 1\n",
    "        i += 1\n",
    "\n",
    "    return j == len(sub)\n",
    "\n",
    "# Example usage\n",
    "main_list = [1, 2, 3, 4, 5, 6, 7, 8]\n",
    "sub_list = [3, 5, 7]\n",
    "\n",
    "if is_subsequence(sub_list, main_list):\n",
    "    print(\"The sub_list is a subsequence of main_list.\")\n",
    "else:\n",
    "    print(\"The sub_list is not a subsequence of main_list.\")"
   ]
  },
  {
   "cell_type": "code",
   "execution_count": null,
   "id": "9d912c87-815c-4452-9ede-f26a7dd328aa",
   "metadata": {},
   "outputs": [],
   "source": [
    "50. Swap two elements in a list by their indices."
   ]
  },
  {
   "cell_type": "code",
   "execution_count": 9,
   "id": "2915103c-83d8-491a-be34-4ca8a2d1894c",
   "metadata": {},
   "outputs": [
    {
     "name": "stdout",
     "output_type": "stream",
     "text": [
      "[1, 4, 3, 2, 5]\n"
     ]
    }
   ],
   "source": [
    "my_list = [1, 2, 3, 4, 5]\n",
    "\n",
    "# Define the indices of the elements to swap\n",
    "index1 = 1\n",
    "index2 = 3\n",
    "\n",
    "# Swap the elements at the specified indices\n",
    "my_list[index1], my_list[index2] = my_list[index2], my_list[index1]\n",
    "\n",
    "print(my_list)"
   ]
  },
  {
   "cell_type": "code",
   "execution_count": null,
   "id": "7e89ec4f-3059-4c68-8cf3-8d96269bc8f7",
   "metadata": {},
   "outputs": [],
   "source": [
    "Tuple based practice problem :"
   ]
  },
  {
   "cell_type": "code",
   "execution_count": null,
   "id": "a29b089c-1a89-4eab-b7dd-6d8d7795a8ca",
   "metadata": {},
   "outputs": [],
   "source": [
    "1. Create a tuple with integers from 1 to 5"
   ]
  },
  {
   "cell_type": "code",
   "execution_count": 1,
   "id": "b3c96eb8-6ff5-4199-ab07-3fe7cdbcdc79",
   "metadata": {},
   "outputs": [],
   "source": [
    "my_tuple = (1, 2, 3, 4, 5)"
   ]
  },
  {
   "cell_type": "code",
   "execution_count": null,
   "id": "e5085283-7d59-4819-bc37-8f2554240ef8",
   "metadata": {},
   "outputs": [],
   "source": [
    "2. Access the third element of a tuple."
   ]
  },
  {
   "cell_type": "code",
   "execution_count": 2,
   "id": "7ca17fea-e64e-471d-b41a-2e421a77ccf5",
   "metadata": {},
   "outputs": [
    {
     "name": "stdout",
     "output_type": "stream",
     "text": [
      "3\n"
     ]
    }
   ],
   "source": [
    "my_tuple = (1, 2, 3, 4, 5)\n",
    "third_element = my_tuple[2]\n",
    "print(third_element)"
   ]
  },
  {
   "cell_type": "code",
   "execution_count": null,
   "id": "e2c97941-b58c-4c1a-831e-8feb6590967f",
   "metadata": {},
   "outputs": [],
   "source": [
    "3. Find the length of a tuple without using the len() function."
   ]
  },
  {
   "cell_type": "code",
   "execution_count": 3,
   "id": "13138524-4fb9-4a1c-b926-033dfbcbbbdf",
   "metadata": {},
   "outputs": [
    {
     "name": "stdout",
     "output_type": "stream",
     "text": [
      "The length of the tuple is: 5\n"
     ]
    }
   ],
   "source": [
    "my_tuple = (1, 2, 3, 4, 5)\n",
    "length = 0\n",
    "\n",
    "for _ in my_tuple:\n",
    "    length += 1\n",
    "\n",
    "print(\"The length of the tuple is:\", length)"
   ]
  },
  {
   "cell_type": "code",
   "execution_count": null,
   "id": "7812f947-30bf-44e0-929b-cd55aeb147cd",
   "metadata": {},
   "outputs": [],
   "source": [
    "4. Count the occurrences of an element in a tuple."
   ]
  },
  {
   "cell_type": "code",
   "execution_count": 4,
   "id": "0e01d090-e970-4413-afd7-7c6bde1bcba3",
   "metadata": {},
   "outputs": [
    {
     "name": "stdout",
     "output_type": "stream",
     "text": [
      "The element 2 appears 3 times in the tuple.\n"
     ]
    }
   ],
   "source": [
    "my_tuple = (1, 2, 2, 3, 4, 2, 5)\n",
    "element_to_count = 2\n",
    "count = 0\n",
    "\n",
    "for item in my_tuple:\n",
    "    if item == element_to_count:\n",
    "        count += 1\n",
    "\n",
    "print(f\"The element {element_to_count} appears {count} times in the tuple.\")"
   ]
  },
  {
   "cell_type": "code",
   "execution_count": null,
   "id": "dc31dfe3-32e2-4c9c-86cc-e9e4687a65a7",
   "metadata": {},
   "outputs": [],
   "source": [
    "5. Find the index of the first occurrence of an element in a tuple."
   ]
  },
  {
   "cell_type": "code",
   "execution_count": 5,
   "id": "87040d3d-7d4d-4e30-802d-6443cdbb60e6",
   "metadata": {},
   "outputs": [
    {
     "name": "stdout",
     "output_type": "stream",
     "text": [
      "The first occurrence of 2 is at index 1.\n"
     ]
    }
   ],
   "source": [
    "my_tuple = (1, 2, 3, 4, 5, 2, 6)\n",
    "element_to_find = 2\n",
    "\n",
    "# Find the index of the first occurrence of the element\n",
    "index = my_tuple.index(element_to_find)\n",
    "\n",
    "print(f\"The first occurrence of {element_to_find} is at index {index}.\")"
   ]
  },
  {
   "cell_type": "code",
   "execution_count": null,
   "id": "15a2f17f-76cf-4d1e-9d94-eebac9e3cae9",
   "metadata": {},
   "outputs": [],
   "source": [
    "6. Check if an element exists in a tuple."
   ]
  },
  {
   "cell_type": "code",
   "execution_count": 6,
   "id": "cf80a1fe-2d7e-4d40-a1a8-6cb2af453085",
   "metadata": {},
   "outputs": [
    {
     "name": "stdout",
     "output_type": "stream",
     "text": [
      "3 exists in the tuple.\n"
     ]
    }
   ],
   "source": [
    "my_tuple = (1, 2, 3, 4, 5)\n",
    "element_to_check = 3\n",
    "\n",
    "if element_to_check in my_tuple:\n",
    "    print(f\"{element_to_check} exists in the tuple.\")\n",
    "else:\n",
    "    print(f\"{element_to_check} does not exist in the tuple.\")"
   ]
  },
  {
   "cell_type": "code",
   "execution_count": null,
   "id": "8b21108b-1813-4e34-808f-a48be3ae688e",
   "metadata": {},
   "outputs": [],
   "source": [
    "7. Convert a tuple to a list."
   ]
  },
  {
   "cell_type": "code",
   "execution_count": 7,
   "id": "a2e3cccf-fe80-4323-96b3-18d685de21d4",
   "metadata": {},
   "outputs": [
    {
     "name": "stdout",
     "output_type": "stream",
     "text": [
      "Tuple: (1, 2, 3, 4, 5)\n",
      "List: [1, 2, 3, 4, 5]\n"
     ]
    }
   ],
   "source": [
    "my_tuple = (1, 2, 3, 4, 5)\n",
    "my_list = list(my_tuple)\n",
    "\n",
    "print(\"Tuple:\", my_tuple)\n",
    "print(\"List:\", my_list)"
   ]
  },
  {
   "cell_type": "code",
   "execution_count": null,
   "id": "eb90441b-7f12-4a5a-b48e-8a792cad2152",
   "metadata": {},
   "outputs": [],
   "source": [
    "8. Convert a list to a tuple."
   ]
  },
  {
   "cell_type": "code",
   "execution_count": 8,
   "id": "da2c8e5e-8333-4c75-9d7b-5f194211c133",
   "metadata": {},
   "outputs": [
    {
     "name": "stdout",
     "output_type": "stream",
     "text": [
      "List: [1, 2, 3, 4, 5]\n",
      "Tuple: (1, 2, 3, 4, 5)\n"
     ]
    }
   ],
   "source": [
    "my_list = [1, 2, 3, 4, 5]\n",
    "my_tuple = tuple(my_list)\n",
    "\n",
    "print(\"List:\", my_list)\n",
    "print(\"Tuple:\", my_tuple)"
   ]
  },
  {
   "cell_type": "code",
   "execution_count": null,
   "id": "726dc1ab-1799-40c0-80ef-b59ed45bed18",
   "metadata": {},
   "outputs": [],
   "source": [
    "9. Unpack the elements of a tuple into variables."
   ]
  },
  {
   "cell_type": "code",
   "execution_count": 9,
   "id": "03747e8f-b798-42d7-b3f6-6e791021eeba",
   "metadata": {},
   "outputs": [
    {
     "name": "stdout",
     "output_type": "stream",
     "text": [
      "Variable 1: 1\n",
      "Variable 2: 2\n",
      "Variable 3: 3\n",
      "Variable 4: 4\n",
      "Variable 5: 5\n"
     ]
    }
   ],
   "source": [
    "my_tuple = (1, 2, 3, 4, 5)\n",
    "\n",
    "# Unpack the elements into variables\n",
    "var1, var2, var3, var4, var5 = my_tuple\n",
    "\n",
    "print(\"Variable 1:\", var1)\n",
    "print(\"Variable 2:\", var2)\n",
    "print(\"Variable 3:\", var3)\n",
    "print(\"Variable 4:\", var4)\n",
    "print(\"Variable 5:\", var5)"
   ]
  },
  {
   "cell_type": "code",
   "execution_count": null,
   "id": "dbbfb3db-e399-480d-a89a-22edeb3cd660",
   "metadata": {},
   "outputs": [],
   "source": [
    "10. Create a tuple of even numbers from 1 to 10."
   ]
  },
  {
   "cell_type": "code",
   "execution_count": 10,
   "id": "71dcb99b-359a-4350-b002-71759b77bf5c",
   "metadata": {},
   "outputs": [],
   "source": [
    "even_numbers = tuple(x for x in range(2, 11, 2))"
   ]
  },
  {
   "cell_type": "code",
   "execution_count": 11,
   "id": "f3c059e8-8210-4ee3-8777-2c6dba1ec957",
   "metadata": {},
   "outputs": [
    {
     "data": {
      "text/plain": [
       "(2, 4, 6, 8, 10)"
      ]
     },
     "execution_count": 11,
     "metadata": {},
     "output_type": "execute_result"
    }
   ],
   "source": [
    "even_numbers"
   ]
  },
  {
   "cell_type": "code",
   "execution_count": null,
   "id": "df4fb511-df1c-4fa1-8ac7-06b43467f3af",
   "metadata": {},
   "outputs": [],
   "source": [
    "11. Create a tuple of odd numbers from 1 to 10."
   ]
  },
  {
   "cell_type": "code",
   "execution_count": 13,
   "id": "208d79b2-c5d6-4e30-9669-35aa8d3cad45",
   "metadata": {},
   "outputs": [
    {
     "name": "stdout",
     "output_type": "stream",
     "text": [
      "(1, 3, 5, 7, 9)\n"
     ]
    }
   ],
   "source": [
    "odd_numbers = tuple(x for x in range(1, 11, 2))\n",
    "print(odd_numbers)"
   ]
  },
  {
   "cell_type": "code",
   "execution_count": null,
   "id": "326c6b04-b45e-4c3a-8474-d387ba6b5198",
   "metadata": {},
   "outputs": [],
   "source": [
    "12. Concatenate two tuples."
   ]
  },
  {
   "cell_type": "code",
   "execution_count": 14,
   "id": "605f12c7-927e-4ffe-96b7-81cab6ab76e8",
   "metadata": {},
   "outputs": [
    {
     "name": "stdout",
     "output_type": "stream",
     "text": [
      "Concatenated Tuple: (1, 2, 3, 4, 5, 6)\n"
     ]
    }
   ],
   "source": [
    "tuple1 = (1, 2, 3)\n",
    "tuple2 = (4, 5, 6)\n",
    "\n",
    "concatenated_tuple = tuple1 + tuple2\n",
    "\n",
    "print(\"Concatenated Tuple:\", concatenated_tuple)"
   ]
  },
  {
   "cell_type": "code",
   "execution_count": null,
   "id": "ba9b8ea8-6706-4c17-af69-503126619276",
   "metadata": {},
   "outputs": [],
   "source": [
    "13. Repeat a tuple three times."
   ]
  },
  {
   "cell_type": "code",
   "execution_count": 15,
   "id": "a0e0a504-a6d7-4d81-bffe-9b2a68cc6ee6",
   "metadata": {},
   "outputs": [
    {
     "name": "stdout",
     "output_type": "stream",
     "text": [
      "Repeated Tuple: (1, 2, 3, 1, 2, 3, 1, 2, 3)\n"
     ]
    }
   ],
   "source": [
    "original_tuple = (1, 2, 3)\n",
    "\n",
    "repeated_tuple = original_tuple * 3\n",
    "\n",
    "print(\"Repeated Tuple:\", repeated_tuple)"
   ]
  },
  {
   "cell_type": "code",
   "execution_count": null,
   "id": "33cbe03b-b350-47ee-b9ff-338965b93a66",
   "metadata": {},
   "outputs": [],
   "source": [
    "14. Check if a tuple is empty."
   ]
  },
  {
   "cell_type": "code",
   "execution_count": 16,
   "id": "6fba038f-5d91-4f47-9731-c5442fbdc62a",
   "metadata": {},
   "outputs": [
    {
     "name": "stdout",
     "output_type": "stream",
     "text": [
      "The tuple is empty.\n"
     ]
    }
   ],
   "source": [
    "my_tuple = ()\n",
    "\n",
    "if not my_tuple:\n",
    "    print(\"The tuple is empty.\")\n",
    "else:\n",
    "    print(\"The tuple is not empty.\")"
   ]
  },
  {
   "cell_type": "code",
   "execution_count": null,
   "id": "ccb95238-12ed-4281-a42a-8a37a15d44c7",
   "metadata": {},
   "outputs": [],
   "source": [
    "15. Create a nested tuple."
   ]
  },
  {
   "cell_type": "code",
   "execution_count": 17,
   "id": "39373ae7-ac66-4f8b-a4d8-5ee7f77fda79",
   "metadata": {},
   "outputs": [
    {
     "name": "stdout",
     "output_type": "stream",
     "text": [
      "Nested Tuple: ((1, 2), (3, 4, 5), (6,))\n"
     ]
    }
   ],
   "source": [
    "nested_tuple = ((1, 2), (3, 4, 5), (6,))\n",
    "\n",
    "print(\"Nested Tuple:\", nested_tuple)"
   ]
  },
  {
   "cell_type": "code",
   "execution_count": null,
   "id": "07cc0f84-aff5-4148-8d18-379dda004903",
   "metadata": {},
   "outputs": [],
   "source": [
    "16. Access the first element of a nested tuple."
   ]
  },
  {
   "cell_type": "code",
   "execution_count": 18,
   "id": "0a73e724-9ab3-4807-a8ce-55edab0fb6da",
   "metadata": {},
   "outputs": [
    {
     "name": "stdout",
     "output_type": "stream",
     "text": [
      "First Element: 1\n"
     ]
    }
   ],
   "source": [
    "nested_tuple = ((1, 2), (3, 4, 5), (6,))\n",
    "\n",
    "first_element = nested_tuple[0][0]\n",
    "\n",
    "print(\"First Element:\", first_element)"
   ]
  },
  {
   "cell_type": "code",
   "execution_count": null,
   "id": "571f2b4e-a344-4091-a5fb-8e51b4cc64af",
   "metadata": {},
   "outputs": [],
   "source": [
    "17. Create a tuple with a single element."
   ]
  },
  {
   "cell_type": "code",
   "execution_count": 20,
   "id": "00c2a9ce-1d00-40c0-bc09-1876d1f0ea78",
   "metadata": {},
   "outputs": [
    {
     "name": "stdout",
     "output_type": "stream",
     "text": [
      "Single element tuple: (12,)\n"
     ]
    }
   ],
   "source": [
    "single_element_tuple = (12,)\n",
    "print(\"Single element tuple:\", single_element_tuple)"
   ]
  },
  {
   "cell_type": "code",
   "execution_count": null,
   "id": "98d2dfb2-6a14-45f8-beb7-202849a47b22",
   "metadata": {},
   "outputs": [],
   "source": [
    "18. Compare two tuples."
   ]
  },
  {
   "cell_type": "code",
   "execution_count": 21,
   "id": "17f621a4-c935-4787-adfa-a4276d8bf397",
   "metadata": {},
   "outputs": [
    {
     "name": "stdout",
     "output_type": "stream",
     "text": [
      "Tuples are not equal\n",
      "Tuples are not equal\n",
      "tuple1 is not greater than tuple2\n",
      "tuple1 is less than tuple2\n"
     ]
    }
   ],
   "source": [
    "tuple1 = (1, 2, 3)\n",
    "tuple2 = (4, 2, 3)\n",
    "\n",
    "# Compare for equality\n",
    "if tuple1 == tuple2:\n",
    "    print(\"Tuples are equal\")\n",
    "else:\n",
    "    print(\"Tuples are not equal\")\n",
    "\n",
    "# Compare for inequality\n",
    "if tuple1 != tuple2:\n",
    "    print(\"Tuples are not equal\")\n",
    "else:\n",
    "    print(\"Tuples are equal\")\n",
    "\n",
    "# Compare element-wise for greater than\n",
    "if tuple1 > tuple2:\n",
    "    print(\"tuple1 is greater than tuple2\")\n",
    "else:\n",
    "    print(\"tuple1 is not greater than tuple2\")\n",
    "\n",
    "# Compare element-wise for less than\n",
    "if tuple1 < tuple2:\n",
    "    print(\"tuple1 is less than tuple2\")\n",
    "else:\n",
    "    print(\"tuple1 is not less than tuple2\")"
   ]
  },
  {
   "cell_type": "code",
   "execution_count": null,
   "id": "00334f74-bfdb-4a47-98e8-183f95a225ba",
   "metadata": {},
   "outputs": [],
   "source": [
    "19. Delete a tuple."
   ]
  },
  {
   "cell_type": "code",
   "execution_count": 22,
   "id": "fadb8e6e-46b8-4023-a8c7-46a6923228ed",
   "metadata": {},
   "outputs": [],
   "source": [
    "my_tuple = (1, 2, 3, 4, 5)\n",
    "\n",
    "# Deleting the entire tuple\n",
    "del my_tuple\n",
    "\n",
    "# Trying to access the tuple after deletion will result in an error\n",
    "# print(my_tuple)  # This line would raise an error"
   ]
  },
  {
   "cell_type": "code",
   "execution_count": null,
   "id": "967a33d0-a2ca-4e78-bac0-52fd1ed12880",
   "metadata": {},
   "outputs": [],
   "source": [
    "20. Slice a tuple."
   ]
  },
  {
   "cell_type": "code",
   "execution_count": 23,
   "id": "fd591a29-2822-4642-b6f4-0f57d17b3629",
   "metadata": {},
   "outputs": [
    {
     "name": "stdout",
     "output_type": "stream",
     "text": [
      "Subset: (2, 3, 4)\n"
     ]
    }
   ],
   "source": [
    "my_tuple = (1, 2, 3, 4, 5)\n",
    "\n",
    "# Slicing the tuple to get a subset\n",
    "subset = my_tuple[1:4]\n",
    "\n",
    "print(\"Subset:\", subset)"
   ]
  },
  {
   "cell_type": "code",
   "execution_count": null,
   "id": "0f86a8ca-052e-4006-accd-4c9f2b46ab46",
   "metadata": {},
   "outputs": [],
   "source": [
    "21. Find the maximum value in a tuple."
   ]
  },
  {
   "cell_type": "code",
   "execution_count": 24,
   "id": "abb692c1-f4d0-4862-ae42-b99cf3040da0",
   "metadata": {},
   "outputs": [
    {
     "name": "stdout",
     "output_type": "stream",
     "text": [
      "Maximum value: 10\n"
     ]
    }
   ],
   "source": [
    "my_tuple = (5, 8, 2, 10, 3)\n",
    "\n",
    "max_value = max(my_tuple)\n",
    "\n",
    "print(\"Maximum value:\", max_value)"
   ]
  },
  {
   "cell_type": "code",
   "execution_count": null,
   "id": "3d5d1e64-acd9-46a0-b595-f87616cee734",
   "metadata": {},
   "outputs": [],
   "source": [
    "22. Find the minimum value in a tuple."
   ]
  },
  {
   "cell_type": "code",
   "execution_count": 25,
   "id": "f72d0616-def5-4438-bb54-9adf80f83e07",
   "metadata": {},
   "outputs": [
    {
     "name": "stdout",
     "output_type": "stream",
     "text": [
      "Minimum value: 2\n"
     ]
    }
   ],
   "source": [
    "my_tuple = (5, 8, 2, 10, 3)\n",
    "\n",
    "min_value = min(my_tuple)\n",
    "\n",
    "print(\"Minimum value:\", min_value)"
   ]
  },
  {
   "cell_type": "code",
   "execution_count": null,
   "id": "4e124932-52e6-4d5d-8dea-7773776dadc3",
   "metadata": {},
   "outputs": [],
   "source": [
    "23. Convert a string to a tuple of characters."
   ]
  },
  {
   "cell_type": "code",
   "execution_count": 29,
   "id": "1e1714a1-6c7a-4577-8b7f-e0e966d9cb3b",
   "metadata": {},
   "outputs": [
    {
     "name": "stdout",
     "output_type": "stream",
     "text": [
      "('H', 'e', 'l', 'l', 'o', ',', ' ', 'W', 'o', 'r', 'l', 'd', '!')\n"
     ]
    }
   ],
   "source": [
    "my_string = \"Hello, World!\"\n",
    "char_tuple = tuple(char for char in my_string)\n",
    "print(char_tuple)"
   ]
  },
  {
   "cell_type": "code",
   "execution_count": null,
   "id": "f8d6b039-13fe-447f-b3b2-bca760ce8036",
   "metadata": {},
   "outputs": [],
   "source": [
    "24. Convert a tuple of characters to a string."
   ]
  },
  {
   "cell_type": "code",
   "execution_count": 31,
   "id": "ab2a58bb-ac2d-47b7-a970-226b982d28ee",
   "metadata": {},
   "outputs": [
    {
     "name": "stdout",
     "output_type": "stream",
     "text": [
      "Hello, World!\n"
     ]
    }
   ],
   "source": [
    "char_tuple = ('H', 'e', 'l', 'l', 'o', ',', ' ', 'W', 'o', 'r', 'l', 'd', '!')\n",
    "resulting_string = ''.join(char_tuple)\n",
    "print(resulting_string)"
   ]
  },
  {
   "cell_type": "code",
   "execution_count": null,
   "id": "cd8f6262-15fc-4f3c-9efc-bd78ea256265",
   "metadata": {},
   "outputs": [],
   "source": [
    "25. Create a tuple from multiple data types."
   ]
  },
  {
   "cell_type": "code",
   "execution_count": 32,
   "id": "3d70339b-7a35-4c20-a69e-0da96062094d",
   "metadata": {},
   "outputs": [
    {
     "name": "stdout",
     "output_type": "stream",
     "text": [
      "Mixed Tuple: (1, 'apple', 3.14, [4, 5])\n"
     ]
    }
   ],
   "source": [
    "mixed_tuple = (1, \"apple\", 3.14, [4, 5])\n",
    "\n",
    "print(\"Mixed Tuple:\", mixed_tuple)"
   ]
  },
  {
   "cell_type": "code",
   "execution_count": null,
   "id": "9e4f7a8c-123d-4fb5-bef8-f96ff8086797",
   "metadata": {},
   "outputs": [],
   "source": [
    "26. Check if two tuples are identical."
   ]
  },
  {
   "cell_type": "code",
   "execution_count": 33,
   "id": "371b53d8-6ef6-4f13-85ed-05a315265187",
   "metadata": {},
   "outputs": [
    {
     "name": "stdout",
     "output_type": "stream",
     "text": [
      "The two tuples are identical.\n"
     ]
    }
   ],
   "source": [
    "tuple1 = (1, 2, 3)\n",
    "tuple2 = (1, 2, 3)\n",
    "\n",
    "if tuple1 == tuple2:\n",
    "    print(\"The two tuples are identical.\")\n",
    "else:\n",
    "    print(\"The two tuples are not identical.\")"
   ]
  },
  {
   "cell_type": "code",
   "execution_count": null,
   "id": "afdd5b5d-10f2-4731-8faf-656f04a9f218",
   "metadata": {},
   "outputs": [],
   "source": [
    "27. Sort the elements of a tuple."
   ]
  },
  {
   "cell_type": "code",
   "execution_count": 35,
   "id": "08405fce-190f-427f-bc61-222a002198b1",
   "metadata": {},
   "outputs": [
    {
     "name": "stdout",
     "output_type": "stream",
     "text": [
      "Sorted Tuple: (1, 2, 3, 4, 5)\n"
     ]
    }
   ],
   "source": [
    "my_tuple = (4, 1, 3, 2, 5)\n",
    "\n",
    "# Convert the tuple to a list, sort the list, and then convert it back to a tuple\n",
    "sorted_tuple = tuple(sorted(my_tuple))\n",
    "\n",
    "print(\"Sorted Tuple:\", sorted_tuple)"
   ]
  },
  {
   "cell_type": "code",
   "execution_count": null,
   "id": "cfa6a0af-7537-49dc-80d5-ad35a56be187",
   "metadata": {},
   "outputs": [],
   "source": [
    "28. Convert a tuple of integers to a tuple of strings."
   ]
  },
  {
   "cell_type": "code",
   "execution_count": 36,
   "id": "7081f8a8-19de-459a-8b03-dd369674d25a",
   "metadata": {},
   "outputs": [
    {
     "name": "stdout",
     "output_type": "stream",
     "text": [
      "Tuple of Integers: (1, 2, 3, 4, 5)\n",
      "Tuple of Strings: ('1', '2', '3', '4', '5')\n"
     ]
    }
   ],
   "source": [
    "int_tuple = (1, 2, 3, 4, 5)\n",
    "\n",
    "# Convert the tuple of integers to a tuple of strings\n",
    "str_tuple = tuple(str(element) for element in int_tuple)\n",
    "\n",
    "print(\"Tuple of Integers:\", int_tuple)\n",
    "print(\"Tuple of Strings:\", str_tuple)"
   ]
  },
  {
   "cell_type": "code",
   "execution_count": null,
   "id": "f4439df2-f56e-4b60-a99b-da271dff95b3",
   "metadata": {},
   "outputs": [],
   "source": [
    "29. Convert a tuple of strings to a tuple of integers."
   ]
  },
  {
   "cell_type": "code",
   "execution_count": 37,
   "id": "9505d50d-e4d0-46c8-bf91-6c8d15a315f3",
   "metadata": {},
   "outputs": [
    {
     "name": "stdout",
     "output_type": "stream",
     "text": [
      "Tuple of Strings: ('1', '2', '3', '4', '5')\n",
      "Tuple of Integers: (1, 2, 3, 4, 5)\n"
     ]
    }
   ],
   "source": [
    "str_tuple = ('1', '2', '3', '4', '5')\n",
    "\n",
    "# Convert the tuple of strings to a tuple of integers\n",
    "int_tuple = tuple(int(element) for element in str_tuple)\n",
    "\n",
    "print(\"Tuple of Strings:\", str_tuple)\n",
    "print(\"Tuple of Integers:\", int_tuple)"
   ]
  },
  {
   "cell_type": "code",
   "execution_count": null,
   "id": "8c85663f-8649-4b40-bb8e-e20048d12db1",
   "metadata": {},
   "outputs": [],
   "source": [
    "30. Merge two tuples."
   ]
  },
  {
   "cell_type": "code",
   "execution_count": 38,
   "id": "80f7b8eb-2e9d-44d8-a5fb-3f6b3ee0f2ea",
   "metadata": {},
   "outputs": [
    {
     "name": "stdout",
     "output_type": "stream",
     "text": [
      "Merged Tuple: (1, 2, 3, 4, 5, 6)\n"
     ]
    }
   ],
   "source": [
    "tuple1 = (1, 2, 3)\n",
    "tuple2 = (4, 5, 6)\n",
    "\n",
    "merged_tuple = tuple1 + tuple2\n",
    "\n",
    "print(\"Merged Tuple:\", merged_tuple)"
   ]
  },
  {
   "cell_type": "code",
   "execution_count": null,
   "id": "aa5c0969-b9e8-44fe-9ae8-6148493c6a86",
   "metadata": {},
   "outputs": [],
   "source": [
    "31. Flatten a nested tuple."
   ]
  },
  {
   "cell_type": "code",
   "execution_count": 39,
   "id": "5dc5d62c-5bd2-4d67-b5a2-2b4d986daddf",
   "metadata": {},
   "outputs": [
    {
     "name": "stdout",
     "output_type": "stream",
     "text": [
      "Nested Tuple: (1, (2, 3), (4, (5, 6)))\n",
      "Flattened Tuple: (1, 2, 3, 4, 5, 6)\n"
     ]
    }
   ],
   "source": [
    "def flatten_tuple(nested_tuple):\n",
    "    flattened = []\n",
    "    for item in nested_tuple:\n",
    "        if isinstance(item, tuple):\n",
    "            flattened.extend(flatten_tuple(item))\n",
    "        else:\n",
    "            flattened.append(item)\n",
    "    return flattened\n",
    "\n",
    "nested_tuple = (1, (2, 3), (4, (5, 6)))\n",
    "flat_tuple = tuple(flatten_tuple(nested_tuple))\n",
    "\n",
    "print(\"Nested Tuple:\", nested_tuple)\n",
    "print(\"Flattened Tuple:\", flat_tuple)"
   ]
  },
  {
   "cell_type": "code",
   "execution_count": null,
   "id": "91d26ad3-d0d6-4640-a242-33dd74584f35",
   "metadata": {},
   "outputs": [],
   "source": [
    "32. Create a tuple of the first 5 prime numbers."
   ]
  },
  {
   "cell_type": "code",
   "execution_count": 40,
   "id": "07a5047f-1ce7-4212-9f46-cea3b5064e17",
   "metadata": {},
   "outputs": [
    {
     "name": "stdout",
     "output_type": "stream",
     "text": [
      "Tuple of the first 5 prime numbers: (2, 3, 5, 7, 11)\n"
     ]
    }
   ],
   "source": [
    "def is_prime(num):\n",
    "    if num <= 1:\n",
    "        return False\n",
    "    for i in range(2, int(num ** 0.5) + 1):\n",
    "        if num % i == 0:\n",
    "            return False\n",
    "    return True\n",
    "\n",
    "# Generate the first 5 prime numbers\n",
    "prime_numbers_list = [num for num in range(2, 100) if is_prime(num)][:5]\n",
    "\n",
    "# Convert the list to a tuple\n",
    "prime_numbers_tuple = tuple(prime_numbers_list)\n",
    "\n",
    "# Print the tuple of prime numbers\n",
    "print(\"Tuple of the first 5 prime numbers:\", prime_numbers_tuple)"
   ]
  },
  {
   "cell_type": "code",
   "execution_count": null,
   "id": "903aac8c-be63-43af-92d3-6015e90cd2ec",
   "metadata": {},
   "outputs": [],
   "source": [
    "33. Check if a tuple is a palindrome."
   ]
  },
  {
   "cell_type": "code",
   "execution_count": 41,
   "id": "710a8f1b-c325-4d43-bcde-db69b4b5392d",
   "metadata": {},
   "outputs": [
    {
     "name": "stdout",
     "output_type": "stream",
     "text": [
      "Is tuple1 a palindrome? True\n",
      "Is tuple2 a palindrome? False\n"
     ]
    }
   ],
   "source": [
    "def is_palindrome_tuple(my_tuple):\n",
    "    return my_tuple == my_tuple[::-1]\n",
    "\n",
    "# Test\n",
    "tuple1 = (1, 2, 3, 2, 1)\n",
    "tuple2 = (1, 2, 3, 4, 5)\n",
    "\n",
    "print(\"Is tuple1 a palindrome?\", is_palindrome_tuple(tuple1))\n",
    "print(\"Is tuple2 a palindrome?\", is_palindrome_tuple(tuple2))\n"
   ]
  },
  {
   "cell_type": "code",
   "execution_count": null,
   "id": "33d191ee-246b-4fe6-bab2-75b2aa187688",
   "metadata": {},
   "outputs": [],
   "source": [
    "34. Create a tuple of squares of numbers from 1 to 5"
   ]
  },
  {
   "cell_type": "code",
   "execution_count": 43,
   "id": "4b141657-4fa2-4c04-862c-db2c0448860b",
   "metadata": {},
   "outputs": [
    {
     "name": "stdout",
     "output_type": "stream",
     "text": [
      "(1, 4, 9, 16, 25)\n"
     ]
    }
   ],
   "source": [
    "squares_tuple = tuple(x ** 2 for x in range(1, 6))\n",
    "print(squares_tuple)"
   ]
  },
  {
   "cell_type": "code",
   "execution_count": null,
   "id": "9dd86645-5ce0-4090-a388-bb289bdc9625",
   "metadata": {},
   "outputs": [],
   "source": [
    "35. Filter out all even numbers from a tuple."
   ]
  },
  {
   "cell_type": "code",
   "execution_count": 46,
   "id": "800f2ed5-32ac-458f-927e-a127724fe05c",
   "metadata": {},
   "outputs": [
    {
     "name": "stdout",
     "output_type": "stream",
     "text": [
      "(1, 3, 5, 7, 9)\n"
     ]
    }
   ],
   "source": [
    "original_tuple = (1, 2, 3, 4, 5, 6, 7, 8, 9)\n",
    "\n",
    "filtered_tuple = tuple(x for x in original_tuple if x % 2 != 0)\n",
    "print(filtered_tuple)"
   ]
  },
  {
   "cell_type": "code",
   "execution_count": null,
   "id": "83b71677-65d5-4f22-9fe4-82131c528ca1",
   "metadata": {},
   "outputs": [],
   "source": [
    "36. Multiply all elements in a tuple by 2"
   ]
  },
  {
   "cell_type": "code",
   "execution_count": 48,
   "id": "925ffc4f-03cf-4f32-a7e5-911c00125beb",
   "metadata": {},
   "outputs": [
    {
     "name": "stdout",
     "output_type": "stream",
     "text": [
      "(2, 4, 6, 8, 10)\n"
     ]
    }
   ],
   "source": [
    "original_tuple = (1, 2, 3, 4, 5)\n",
    "\n",
    "doubled_tuple = tuple(x * 2 for x in original_tuple)\n",
    "print (doubled_tuple)"
   ]
  },
  {
   "cell_type": "code",
   "execution_count": null,
   "id": "870e348a-c0ac-459a-8f5d-64254ea88cdf",
   "metadata": {},
   "outputs": [],
   "source": [
    "37. Create a tuple of random numbers."
   ]
  },
  {
   "cell_type": "code",
   "execution_count": 49,
   "id": "e76261e7-7843-4a68-83b8-e86ee8a139ee",
   "metadata": {},
   "outputs": [
    {
     "name": "stdout",
     "output_type": "stream",
     "text": [
      "(71, 100, 22, 46, 9)\n"
     ]
    }
   ],
   "source": [
    "import random\n",
    "\n",
    "random_tuple = tuple(random.randint(1, 100) for _ in range(5))\n",
    "print(random_tuple)"
   ]
  },
  {
   "cell_type": "code",
   "execution_count": null,
   "id": "0a992871-a2af-46a4-b6b8-1f8e0a7326a8",
   "metadata": {},
   "outputs": [],
   "source": [
    "38. Check if a tuple is sorted."
   ]
  },
  {
   "cell_type": "code",
   "execution_count": 50,
   "id": "00735368-3c6f-42bf-a43e-c7a4a2d8d890",
   "metadata": {},
   "outputs": [
    {
     "name": "stdout",
     "output_type": "stream",
     "text": [
      "Is tuple1 sorted? True\n",
      "Is tuple2 sorted? False\n"
     ]
    }
   ],
   "source": [
    "def is_sorted_tuple(my_tuple):\n",
    "    for i in range(len(my_tuple) - 1):\n",
    "        if my_tuple[i] > my_tuple[i + 1]:\n",
    "            return False\n",
    "    return True\n",
    "\n",
    "# Test\n",
    "tuple1 = (1, 2, 3, 4, 5)\n",
    "tuple2 = (5, 4, 3, 2, 1)\n",
    "\n",
    "print(\"Is tuple1 sorted?\", is_sorted_tuple(tuple1))\n",
    "print(\"Is tuple2 sorted?\", is_sorted_tuple(tuple2))"
   ]
  },
  {
   "cell_type": "code",
   "execution_count": null,
   "id": "b316ec99-36f4-486c-aa41-741adc374fd2",
   "metadata": {},
   "outputs": [],
   "source": [
    "39. Rotate a tuple to the left by n positions."
   ]
  },
  {
   "cell_type": "code",
   "execution_count": 51,
   "id": "023f11bf-b70f-4999-bcc3-3da432c5646f",
   "metadata": {},
   "outputs": [
    {
     "name": "stdout",
     "output_type": "stream",
     "text": [
      "Original Tuple: (1, 2, 3, 4, 5)\n",
      "Rotated Left by 2 positions: (3, 4, 5, 1, 2)\n"
     ]
    }
   ],
   "source": [
    "def rotate_left_tuple(my_tuple, n):\n",
    "    n = n % len(my_tuple)  # Ensure n is within the range of tuple length\n",
    "    rotated_tuple = my_tuple[n:] + my_tuple[:n]\n",
    "    return rotated_tuple\n",
    "\n",
    "# Test\n",
    "original_tuple = (1, 2, 3, 4, 5)\n",
    "n = 2\n",
    "rotated_tuple = rotate_left_tuple(original_tuple, n)\n",
    "\n",
    "print(\"Original Tuple:\", original_tuple)\n",
    "print(f\"Rotated Left by {n} positions:\", rotated_tuple)"
   ]
  },
  {
   "cell_type": "code",
   "execution_count": null,
   "id": "35793d03-a4d3-4560-90ba-76040338b4fa",
   "metadata": {},
   "outputs": [],
   "source": [
    "40. Rotate a tuple to the right by n positions."
   ]
  },
  {
   "cell_type": "code",
   "execution_count": 52,
   "id": "999f46a9-6e5c-45ff-bb07-2c2389a03aca",
   "metadata": {},
   "outputs": [
    {
     "name": "stdout",
     "output_type": "stream",
     "text": [
      "Original Tuple: (1, 2, 3, 4, 5)\n",
      "Rotated Right by 2 positions: (4, 5, 1, 2, 3)\n"
     ]
    }
   ],
   "source": [
    "def rotate_right_tuple(my_tuple, n):\n",
    "    n = n % len(my_tuple)  # Ensure n is within the range of tuple length\n",
    "    rotated_tuple = my_tuple[-n:] + my_tuple[:-n]\n",
    "    return rotated_tuple\n",
    "\n",
    "# Test\n",
    "original_tuple = (1, 2, 3, 4, 5)\n",
    "n = 2\n",
    "rotated_tuple = rotate_right_tuple(original_tuple, n)\n",
    "\n",
    "print(\"Original Tuple:\", original_tuple)\n",
    "print(f\"Rotated Right by {n} positions:\", rotated_tuple)"
   ]
  },
  {
   "cell_type": "code",
   "execution_count": null,
   "id": "d47da008-8ce3-4cf9-b423-35628acd2440",
   "metadata": {},
   "outputs": [],
   "source": [
    "41. Create a tuple of the first 5 Fibonacci numbers."
   ]
  },
  {
   "cell_type": "code",
   "execution_count": 53,
   "id": "cb4cc8b7-5797-4ad9-9a18-902d74d5b6de",
   "metadata": {},
   "outputs": [
    {
     "name": "stdout",
     "output_type": "stream",
     "text": [
      "First 5 Fibonacci Numbers: (0, 1, 1, 2, 3)\n"
     ]
    }
   ],
   "source": [
    "def generate_fibonacci(n):\n",
    "    fibonacci_tuple = (0, 1)\n",
    "    while len(fibonacci_tuple) < n:\n",
    "        next_fib = fibonacci_tuple[-1] + fibonacci_tuple[-2]\n",
    "        fibonacci_tuple = fibonacci_tuple + (next_fib,)\n",
    "    return fibonacci_tuple\n",
    "\n",
    "# Generate the first 5 Fibonacci numbers\n",
    "first_5_fibonacci = generate_fibonacci(5)\n",
    "\n",
    "print(\"First 5 Fibonacci Numbers:\", first_5_fibonacci)"
   ]
  },
  {
   "cell_type": "code",
   "execution_count": null,
   "id": "a1eed9e1-ff24-445c-8902-3b309fa9b28c",
   "metadata": {},
   "outputs": [],
   "source": [
    "42. Create a tuple from user input."
   ]
  },
  {
   "cell_type": "code",
   "execution_count": 54,
   "id": "e369040f-99f7-4566-a64e-438ca58493d2",
   "metadata": {},
   "outputs": [
    {
     "name": "stdin",
     "output_type": "stream",
     "text": [
      "Enter a series of values separated by spaces:  s,a,n,d,i,p\n"
     ]
    },
    {
     "name": "stdout",
     "output_type": "stream",
     "text": [
      "User Input as Tuple: ('s,a,n,d,i,p',)\n"
     ]
    }
   ],
   "source": [
    "# Collect user input and split it into elements\n",
    "user_input = input(\"Enter a series of values separated by spaces: \")\n",
    "user_values = user_input.split()\n",
    "\n",
    "# Convert the list of values to a tuple\n",
    "user_tuple = tuple(user_values)\n",
    "\n",
    "print(\"User Input as Tuple:\", user_tuple)"
   ]
  },
  {
   "cell_type": "code",
   "execution_count": null,
   "id": "03181f00-39a2-4444-a9eb-a4581615ffb5",
   "metadata": {},
   "outputs": [],
   "source": [
    "43. Swap two elements in a tuple."
   ]
  },
  {
   "cell_type": "code",
   "execution_count": 55,
   "id": "0a2e6720-830c-489f-a926-ecc57baaff7b",
   "metadata": {},
   "outputs": [
    {
     "name": "stdout",
     "output_type": "stream",
     "text": [
      "Original Tuple: (1, 2, 3, 4, 5)\n",
      "Swapped Tuple: (1, 4, 3, 2, 5)\n"
     ]
    }
   ],
   "source": [
    "def swap_elements(tuple_in, index1, index2):\n",
    "    # Convert the tuple to a list\n",
    "    list_out = list(tuple_in)\n",
    "\n",
    "    # Swap the elements\n",
    "    list_out[index1], list_out[index2] = list_out[index2], list_out[index1]\n",
    "\n",
    "    # Convert the list back to a tuple\n",
    "    tuple_out = tuple(list_out)\n",
    "\n",
    "    return tuple_out\n",
    "\n",
    "# Original tuple\n",
    "original_tuple = (1, 2, 3, 4, 5)\n",
    "\n",
    "# Swap elements at index 1 and index 3\n",
    "swapped_tuple = swap_elements(original_tuple, 1, 3)\n",
    "\n",
    "print(\"Original Tuple:\", original_tuple)\n",
    "print(\"Swapped Tuple:\", swapped_tuple)"
   ]
  },
  {
   "cell_type": "code",
   "execution_count": null,
   "id": "1cba3ffd-ec6b-49a1-9dea-2eca3d7804c5",
   "metadata": {},
   "outputs": [],
   "source": [
    "44. Reverse the elements of a tuple."
   ]
  },
  {
   "cell_type": "code",
   "execution_count": 56,
   "id": "62ee3bd1-89eb-4cbb-a48e-47dec2ca80a6",
   "metadata": {},
   "outputs": [
    {
     "name": "stdout",
     "output_type": "stream",
     "text": [
      "Original Tuple: (1, 2, 3, 4, 5)\n",
      "Reversed Tuple: (5, 4, 3, 2, 1)\n"
     ]
    }
   ],
   "source": [
    "def reverse_tuple(my_tuple):\n",
    "    return my_tuple[::-1]\n",
    "\n",
    "# Test\n",
    "original_tuple = (1, 2, 3, 4, 5)\n",
    "reversed_tuple = reverse_tuple(original_tuple)\n",
    "\n",
    "print(\"Original Tuple:\", original_tuple)\n",
    "print(\"Reversed Tuple:\", reversed_tuple)"
   ]
  },
  {
   "cell_type": "code",
   "execution_count": null,
   "id": "40c20956-8393-4621-8b2d-1b06bd374959",
   "metadata": {},
   "outputs": [],
   "source": [
    "45. Create a tuple of the first n powers of 2."
   ]
  },
  {
   "cell_type": "code",
   "execution_count": 58,
   "id": "3308ed91-8cec-4c3c-bdfa-a40d75957900",
   "metadata": {},
   "outputs": [
    {
     "name": "stdout",
     "output_type": "stream",
     "text": [
      "(1, 2, 4, 8, 16)\n"
     ]
    }
   ],
   "source": [
    "n = 5  # Number of powers of 2\n",
    "powers_of_2 = tuple(2 ** i for i in range(n))\n",
    "print(powers_of_2)"
   ]
  },
  {
   "cell_type": "code",
   "execution_count": null,
   "id": "4ba34987-2fda-4277-ba2b-54e7226544d1",
   "metadata": {},
   "outputs": [],
   "source": [
    "46. Find the longest string in a tuple of strings."
   ]
  },
  {
   "cell_type": "code",
   "execution_count": 59,
   "id": "091f56e5-0557-4894-8507-24de2a622631",
   "metadata": {},
   "outputs": [
    {
     "name": "stdout",
     "output_type": "stream",
     "text": [
      "Longest String: banana\n"
     ]
    }
   ],
   "source": [
    "string_tuple = (\"apple\", \"banana\", \"cherry\", \"date\", \"fig\")\n",
    "\n",
    "longest_string = max(string_tuple, key=len)\n",
    "\n",
    "print(\"Longest String:\", longest_string)"
   ]
  },
  {
   "cell_type": "code",
   "execution_count": null,
   "id": "f319960e-4471-4466-b5d2-8d39b8263691",
   "metadata": {},
   "outputs": [],
   "source": [
    "47. Find the shortest string in a tuple of strings."
   ]
  },
  {
   "cell_type": "code",
   "execution_count": 60,
   "id": "3d4d7fcc-c3a3-42a9-ae40-37770019e4bb",
   "metadata": {},
   "outputs": [
    {
     "name": "stdout",
     "output_type": "stream",
     "text": [
      "Shortest String: fig\n"
     ]
    }
   ],
   "source": [
    "string_tuple = (\"apple\", \"banana\", \"cherry\", \"date\", \"fig\")\n",
    "\n",
    "shortest_string = min(string_tuple, key=len)\n",
    "\n",
    "print(\"Shortest String:\", shortest_string)"
   ]
  },
  {
   "cell_type": "code",
   "execution_count": null,
   "id": "18ed97b5-e5ae-4340-bda4-9814cc7d46a9",
   "metadata": {},
   "outputs": [],
   "source": [
    "48. Create a tuple of the first n triangular numbers."
   ]
  },
  {
   "cell_type": "code",
   "execution_count": 62,
   "id": "544af3c3-cbc8-43d8-b675-642e2c77516a",
   "metadata": {},
   "outputs": [
    {
     "name": "stdout",
     "output_type": "stream",
     "text": [
      "(1, 3, 6, 10, 15)\n"
     ]
    }
   ],
   "source": [
    "n = 5  # Number of triangular numbers\n",
    "triangular_numbers = []\n",
    "\n",
    "for i in range(1, n + 1):\n",
    "    triangular_number = i * (i + 1) // 2\n",
    "    triangular_numbers.append(triangular_number)\n",
    "\n",
    "triangular_tuple = tuple(triangular_numbers)\n",
    "print(triangular_tuple)"
   ]
  },
  {
   "cell_type": "code",
   "execution_count": null,
   "id": "54c7f942-0d0a-48ae-bca2-4e0582e77460",
   "metadata": {},
   "outputs": [],
   "source": [
    "49. Check if a tuple contains another tuple as a subsequence."
   ]
  },
  {
   "cell_type": "code",
   "execution_count": 63,
   "id": "297255cf-a0ef-435d-a160-9b3616b93738",
   "metadata": {},
   "outputs": [
    {
     "name": "stdout",
     "output_type": "stream",
     "text": [
      "Does main_tuple contain sub_tuple? True\n"
     ]
    }
   ],
   "source": [
    "def contains_subsequence(main_tuple, sub_tuple):\n",
    "    if len(sub_tuple) == 0:\n",
    "        return True\n",
    "\n",
    "    sub_len = len(sub_tuple)\n",
    "    for i in range(len(main_tuple) - sub_len + 1):\n",
    "        if main_tuple[i:i+sub_len] == sub_tuple:\n",
    "            return True\n",
    "    return False\n",
    "\n",
    "# Test\n",
    "main_tuple = (1, 2, 3, 4, 5, 6, 7, 8, 9)\n",
    "sub_tuple = (3, 4, 5)\n",
    "\n",
    "print(\"Does main_tuple contain sub_tuple?\", contains_subsequence(main_tuple, sub_tuple))"
   ]
  },
  {
   "cell_type": "code",
   "execution_count": null,
   "id": "f82edc2c-a950-4905-aee4-3d367666fd57",
   "metadata": {},
   "outputs": [],
   "source": [
    "50. Create a tuple of alternating 1s and 0s of length n."
   ]
  },
  {
   "cell_type": "code",
   "execution_count": 2,
   "id": "d2530838-62a4-4b2a-84c2-03b02d7231a1",
   "metadata": {},
   "outputs": [
    {
     "name": "stdout",
     "output_type": "stream",
     "text": [
      "(1, 0, 1, 0, 1, 0, 1, 0, 1, 0)\n"
     ]
    }
   ],
   "source": [
    "n = 10  # Length of the tuple\n",
    "alternating_tuple = tuple(1 if i % 2 == 0 else 0 for i in range(n))\n",
    "print (alternating_tuple)"
   ]
  },
  {
   "cell_type": "code",
   "execution_count": null,
   "id": "0a457830-dda9-49c3-80ce-f8fa29a32c48",
   "metadata": {},
   "outputs": [],
   "source": [
    "Set based problems:"
   ]
  },
  {
   "cell_type": "code",
   "execution_count": null,
   "id": "7f8857b3-453e-4b49-bce6-6cc187abdb52",
   "metadata": {},
   "outputs": [],
   "source": [
    "1. Create a set with integers from 1 to 5"
   ]
  },
  {
   "cell_type": "code",
   "execution_count": 3,
   "id": "883c718d-cddf-4219-911a-6f1d45fe1ca0",
   "metadata": {},
   "outputs": [
    {
     "name": "stdout",
     "output_type": "stream",
     "text": [
      "{1, 2, 3, 4, 5}\n"
     ]
    }
   ],
   "source": [
    "my_set = {1, 2, 3, 4, 5}\n",
    "print(my_set)"
   ]
  },
  {
   "cell_type": "code",
   "execution_count": null,
   "id": "08d8650e-b0b2-4c07-8b7e-6db3acfd066a",
   "metadata": {},
   "outputs": [],
   "source": [
    "2. Add an element to a set"
   ]
  },
  {
   "cell_type": "code",
   "execution_count": 4,
   "id": "a09b31de-e9fc-4eb2-8102-b029bae9bb42",
   "metadata": {},
   "outputs": [
    {
     "name": "stdout",
     "output_type": "stream",
     "text": [
      "{1, 2, 3, 4, 5, 6}\n"
     ]
    }
   ],
   "source": [
    "my_set = {1, 2, 3, 4, 5}\n",
    "\n",
    "# Add an element to the set\n",
    "my_set.add(6)\n",
    "\n",
    "print(my_set)"
   ]
  },
  {
   "cell_type": "code",
   "execution_count": null,
   "id": "98e3f2c4-9685-409a-9dcb-f97f9074a144",
   "metadata": {},
   "outputs": [],
   "source": [
    "3. Remove an element from a set."
   ]
  },
  {
   "cell_type": "code",
   "execution_count": 5,
   "id": "41b21cd4-d90d-4d91-8aa4-58497ba13bab",
   "metadata": {},
   "outputs": [
    {
     "name": "stdout",
     "output_type": "stream",
     "text": [
      "{1, 2, 4, 5}\n"
     ]
    }
   ],
   "source": [
    "my_set = {1, 2, 3, 4, 5}\n",
    "\n",
    "try:\n",
    "    my_set.remove(3)\n",
    "except KeyError:\n",
    "    print(\"Element not found\")\n",
    "\n",
    "print(my_set)"
   ]
  },
  {
   "cell_type": "code",
   "execution_count": null,
   "id": "0edc9469-9c83-4767-8f77-9491a39d2f60",
   "metadata": {},
   "outputs": [],
   "source": [
    "4. Check if an element exists in a set."
   ]
  },
  {
   "cell_type": "code",
   "execution_count": 6,
   "id": "118bf859-500b-4ef2-98db-e2d7b6f02794",
   "metadata": {},
   "outputs": [
    {
     "name": "stdout",
     "output_type": "stream",
     "text": [
      "3 exists in the set.\n"
     ]
    }
   ],
   "source": [
    "my_set = {1, 2, 3, 4, 5}\n",
    "\n",
    "element_to_check = 3\n",
    "\n",
    "if element_to_check in my_set:\n",
    "    print(f\"{element_to_check} exists in the set.\")\n",
    "else:\n",
    "    print(f\"{element_to_check} does not exist in the set.\")"
   ]
  },
  {
   "cell_type": "code",
   "execution_count": null,
   "id": "a24d95bf-001f-4858-a051-6603f35cd1de",
   "metadata": {},
   "outputs": [],
   "source": [
    "5. Find the length of a set without using the len() function"
   ]
  },
  {
   "cell_type": "code",
   "execution_count": 7,
   "id": "e030a8bb-6a2a-4057-ac23-22dddab6a042",
   "metadata": {},
   "outputs": [
    {
     "name": "stdout",
     "output_type": "stream",
     "text": [
      "Length of the set: 5\n"
     ]
    }
   ],
   "source": [
    "my_set = {1, 2, 3, 4, 5}\n",
    "count = 0\n",
    "\n",
    "for element in my_set:\n",
    "    count += 1\n",
    "\n",
    "print(\"Length of the set:\", count)"
   ]
  },
  {
   "cell_type": "code",
   "execution_count": null,
   "id": "41b6d4e2-de45-476d-a948-e7e4a9077a23",
   "metadata": {},
   "outputs": [],
   "source": [
    "6. Clear all elements from a set."
   ]
  },
  {
   "cell_type": "code",
   "execution_count": 8,
   "id": "8a9f5ec0-aabe-4889-bcbf-984acb3a480c",
   "metadata": {},
   "outputs": [
    {
     "name": "stdout",
     "output_type": "stream",
     "text": [
      "Set after clearing: set()\n"
     ]
    }
   ],
   "source": [
    "my_set = {1, 2, 3, 4, 5}\n",
    "\n",
    "my_set.clear()\n",
    "\n",
    "print(\"Set after clearing:\", my_set)"
   ]
  },
  {
   "cell_type": "code",
   "execution_count": null,
   "id": "4fc135dc-6126-4dda-9871-f3339451293b",
   "metadata": {},
   "outputs": [],
   "source": [
    "7. Create a set of even numbers from 1 to 10"
   ]
  },
  {
   "cell_type": "code",
   "execution_count": 9,
   "id": "61c1e803-279a-4709-b37f-933ace733a1b",
   "metadata": {},
   "outputs": [
    {
     "name": "stdout",
     "output_type": "stream",
     "text": [
      "{2, 4, 6, 8, 10}\n"
     ]
    }
   ],
   "source": [
    "even_numbers_set = {x for x in range(1, 11) if x % 2 == 0}\n",
    "print(even_numbers_set)"
   ]
  },
  {
   "cell_type": "code",
   "execution_count": null,
   "id": "d0155853-f1f2-47bd-865e-869d1b569624",
   "metadata": {},
   "outputs": [],
   "source": [
    "8. Create a set of odd numbers from 1 to 10"
   ]
  },
  {
   "cell_type": "code",
   "execution_count": 10,
   "id": "ea76d66e-12f8-43d8-9100-36cb2b78a584",
   "metadata": {},
   "outputs": [
    {
     "name": "stdout",
     "output_type": "stream",
     "text": [
      "{1, 3, 5, 7, 9}\n"
     ]
    }
   ],
   "source": [
    "odd_numbers_set = {x for x in range(1, 11) if x % 2 != 0}\n",
    "print(odd_numbers_set)"
   ]
  },
  {
   "cell_type": "code",
   "execution_count": null,
   "id": "2faeafba-22c2-462f-9e95-4970819d1d55",
   "metadata": {},
   "outputs": [],
   "source": [
    "9. Find the union of two sets"
   ]
  },
  {
   "cell_type": "code",
   "execution_count": 11,
   "id": "d49d089b-cf42-4f32-a587-b3cb32ec4926",
   "metadata": {},
   "outputs": [
    {
     "name": "stdout",
     "output_type": "stream",
     "text": [
      "Union of set1 and set2: {1, 2, 3, 4, 5, 6, 7, 8}\n"
     ]
    }
   ],
   "source": [
    "set1 = {1, 2, 3, 4, 5}\n",
    "set2 = {4, 5, 6, 7, 8}\n",
    "\n",
    "union_set = set1 | set2\n",
    "\n",
    "print(\"Union of set1 and set2:\", union_set)"
   ]
  },
  {
   "cell_type": "code",
   "execution_count": null,
   "id": "b88d84c3-df77-4313-95f8-2bb347928b31",
   "metadata": {},
   "outputs": [],
   "source": [
    "10. Find the intersection of two sets"
   ]
  },
  {
   "cell_type": "code",
   "execution_count": 12,
   "id": "293c9953-f1cf-4b23-b510-6975834fc031",
   "metadata": {},
   "outputs": [
    {
     "name": "stdout",
     "output_type": "stream",
     "text": [
      "Intersection of set1 and set2: {4, 5}\n"
     ]
    }
   ],
   "source": [
    "set1 = {1, 2, 3, 4, 5}\n",
    "set2 = {4, 5, 6, 7, 8}\n",
    "\n",
    "intersection_set = set1.intersection(set2)\n",
    "\n",
    "print(\"Intersection of set1 and set2:\", intersection_set)"
   ]
  },
  {
   "cell_type": "code",
   "execution_count": null,
   "id": "85a27b5e-836e-46ab-a592-eeac05404b74",
   "metadata": {},
   "outputs": [],
   "source": [
    "11. Find the difference between two sets."
   ]
  },
  {
   "cell_type": "code",
   "execution_count": 13,
   "id": "a3da49e7-040a-4efa-8076-5ce63c0ed975",
   "metadata": {},
   "outputs": [
    {
     "name": "stdout",
     "output_type": "stream",
     "text": [
      "Difference between set1 and set2: {1, 2, 3}\n"
     ]
    }
   ],
   "source": [
    "set1 = {1, 2, 3, 4, 5}\n",
    "set2 = {4, 5, 6, 7, 8}\n",
    "\n",
    "difference_set = set1.difference(set2)\n",
    "\n",
    "print(\"Difference between set1 and set2:\", difference_set)"
   ]
  },
  {
   "cell_type": "code",
   "execution_count": null,
   "id": "674cbd25-3877-49a0-b280-5a221752d1d8",
   "metadata": {},
   "outputs": [],
   "source": [
    "12. Check if a set is a subset of another set."
   ]
  },
  {
   "cell_type": "code",
   "execution_count": 14,
   "id": "55f5f43c-c79c-404d-90ce-1291e2346e96",
   "metadata": {},
   "outputs": [
    {
     "name": "stdout",
     "output_type": "stream",
     "text": [
      "set1 is a subset of set2\n"
     ]
    }
   ],
   "source": [
    "set1 = {1, 2, 3}\n",
    "set2 = {1, 2, 3, 4, 5}\n",
    "\n",
    "is_subset = set1.issubset(set2)\n",
    "\n",
    "if is_subset:\n",
    "    print(\"set1 is a subset of set2\")\n",
    "else:\n",
    "    print(\"set1 is not a subset of set2\")"
   ]
  },
  {
   "cell_type": "code",
   "execution_count": null,
   "id": "4ea6774f-ae79-427d-b114-b17110e1a70f",
   "metadata": {},
   "outputs": [],
   "source": [
    "13. Check if a set is a superset of another set."
   ]
  },
  {
   "cell_type": "code",
   "execution_count": 15,
   "id": "24fe66ee-6d32-47c7-97a7-0ffff036c8ed",
   "metadata": {},
   "outputs": [
    {
     "name": "stdout",
     "output_type": "stream",
     "text": [
      "set1 is a superset of set2\n"
     ]
    }
   ],
   "source": [
    "set1 = {1, 2, 3, 4, 5}\n",
    "set2 = {2, 3}\n",
    "\n",
    "is_superset = set1.issuperset(set2)\n",
    "\n",
    "if is_superset:\n",
    "    print(\"set1 is a superset of set2\")\n",
    "else:\n",
    "    print(\"set1 is not a superset of set2\")"
   ]
  },
  {
   "cell_type": "code",
   "execution_count": null,
   "id": "ee5d4658-45d4-4c89-bda6-26d31723ceda",
   "metadata": {},
   "outputs": [],
   "source": [
    "14. Create a set from a list"
   ]
  },
  {
   "cell_type": "code",
   "execution_count": 17,
   "id": "e5d51873-f424-4d5a-a4a7-bb3debf6a7de",
   "metadata": {},
   "outputs": [
    {
     "name": "stdout",
     "output_type": "stream",
     "text": [
      "{1, 2, 3, 4, 5}\n"
     ]
    }
   ],
   "source": [
    "my_list = [1, 2, 3, 4, 5]\n",
    "my_set = set(my_list)\n",
    "print(my_set)"
   ]
  },
  {
   "cell_type": "code",
   "execution_count": null,
   "id": "b1d1a85d-017c-415e-aa3f-32249ee6b7f3",
   "metadata": {},
   "outputs": [],
   "source": [
    "15. Convert a set to a list."
   ]
  },
  {
   "cell_type": "code",
   "execution_count": 19,
   "id": "df1e353e-d6be-43d6-9274-a7a4252810c2",
   "metadata": {},
   "outputs": [
    {
     "name": "stdout",
     "output_type": "stream",
     "text": [
      "[1, 2, 3, 4, 5]\n"
     ]
    }
   ],
   "source": [
    "my_set = {1, 2, 3, 4, 5}\n",
    "my_list = list(my_set)\n",
    "print(my_list)"
   ]
  },
  {
   "cell_type": "code",
   "execution_count": null,
   "id": "324ff24e-41be-4e13-9c8a-5fdd85c85d1c",
   "metadata": {},
   "outputs": [],
   "source": [
    "16. Remove a random element from a set."
   ]
  },
  {
   "cell_type": "code",
   "execution_count": 20,
   "id": "45e5f491-187a-43f2-b55c-d2d7c8ee38a9",
   "metadata": {},
   "outputs": [
    {
     "name": "stdout",
     "output_type": "stream",
     "text": [
      "Removed element: 1\n",
      "Set after removal: {2, 3, 4, 5}\n"
     ]
    }
   ],
   "source": [
    "my_set = {1, 2, 3, 4, 5}\n",
    "\n",
    "removed_element = my_set.pop()\n",
    "\n",
    "print(\"Removed element:\", removed_element)\n",
    "print(\"Set after removal:\", my_set)"
   ]
  },
  {
   "cell_type": "code",
   "execution_count": null,
   "id": "17394fed-7bc8-446a-aa32-790249f3bac7",
   "metadata": {},
   "outputs": [],
   "source": [
    "17. Pop an element from a set."
   ]
  },
  {
   "cell_type": "code",
   "execution_count": 21,
   "id": "4af6addd-8eda-429b-8083-a507ebcc64c2",
   "metadata": {},
   "outputs": [
    {
     "name": "stdout",
     "output_type": "stream",
     "text": [
      "Popped element: 1\n",
      "Set after popping: {2, 3, 4, 5}\n"
     ]
    }
   ],
   "source": [
    "my_set = {1, 2, 3, 4, 5}\n",
    "\n",
    "popped_element = my_set.pop()\n",
    "\n",
    "print(\"Popped element:\", popped_element)\n",
    "print(\"Set after popping:\", my_set)"
   ]
  },
  {
   "cell_type": "code",
   "execution_count": null,
   "id": "f6236db3-156b-40b5-976f-c34b0d739bad",
   "metadata": {},
   "outputs": [],
   "source": [
    "18. Check if two sets have no elements in common."
   ]
  },
  {
   "cell_type": "code",
   "execution_count": 22,
   "id": "9265cc76-2d51-4a3a-aced-528e7776cc28",
   "metadata": {},
   "outputs": [
    {
     "name": "stdout",
     "output_type": "stream",
     "text": [
      "The sets have no elements in common.\n"
     ]
    }
   ],
   "source": [
    "set1 = {1, 2, 3}\n",
    "set2 = {4, 5, 6}\n",
    "\n",
    "are_disjoint = set1.isdisjoint(set2)\n",
    "\n",
    "if are_disjoint:\n",
    "    print(\"The sets have no elements in common.\")\n",
    "else:\n",
    "    print(\"The sets have elements in common.\")"
   ]
  },
  {
   "cell_type": "code",
   "execution_count": null,
   "id": "1eca9ce7-30f1-475c-97ea-17a696fe7a08",
   "metadata": {},
   "outputs": [],
   "source": [
    "19. Find the symmetric difference between two sets."
   ]
  },
  {
   "cell_type": "code",
   "execution_count": 23,
   "id": "7b979c06-202a-4419-97df-52f19501e304",
   "metadata": {},
   "outputs": [
    {
     "name": "stdout",
     "output_type": "stream",
     "text": [
      "Symmetric difference between set1 and set2: {1, 2, 3, 6, 7, 8}\n"
     ]
    }
   ],
   "source": [
    "set1 = {1, 2, 3, 4, 5}\n",
    "set2 = {4, 5, 6, 7, 8}\n",
    "\n",
    "symmetric_difference_set = set1.symmetric_difference(set2)\n",
    "\n",
    "print(\"Symmetric difference between set1 and set2:\", symmetric_difference_set)"
   ]
  },
  {
   "cell_type": "code",
   "execution_count": null,
   "id": "c750db9c-d282-40c9-99f6-8ce65f602b8a",
   "metadata": {},
   "outputs": [],
   "source": [
    "20. Update a set with elements from another set."
   ]
  },
  {
   "cell_type": "code",
   "execution_count": 24,
   "id": "758676b4-107e-4e74-ad31-ea2a5e8abbd5",
   "metadata": {},
   "outputs": [
    {
     "name": "stdout",
     "output_type": "stream",
     "text": [
      "Updated set1: {1, 2, 3, 4, 5}\n"
     ]
    }
   ],
   "source": [
    "set1 = {1, 2, 3}\n",
    "set2 = {3, 4, 5}\n",
    "\n",
    "set1.update(set2)\n",
    "\n",
    "print(\"Updated set1:\", set1)"
   ]
  },
  {
   "cell_type": "code",
   "execution_count": null,
   "id": "06438e89-6551-409c-8b54-8c6c56427388",
   "metadata": {},
   "outputs": [],
   "source": [
    "21. Create a set of the first 5 prime numbers."
   ]
  },
  {
   "cell_type": "code",
   "execution_count": 25,
   "id": "a0e37d6c-fd33-4892-83a8-05b49ff87fc0",
   "metadata": {},
   "outputs": [
    {
     "name": "stdout",
     "output_type": "stream",
     "text": [
      "{2, 3, 5, 7, 11}\n"
     ]
    }
   ],
   "source": [
    "def is_prime(n): \n",
    "    if n <= 1: \n",
    "        return False\n",
    "    for i in range(2, int(n**0.5) + 1): \n",
    "        if n % i == 0: \n",
    "            return False\n",
    "    return True\n",
    "\n",
    "primes = set()\n",
    "for i in range(2, 12): \n",
    "    if is_prime(i): \n",
    "        primes.add(i)\n",
    "\n",
    "print(primes)"
   ]
  },
  {
   "cell_type": "code",
   "execution_count": null,
   "id": "7391d6bf-51ee-4c7b-9849-c20535226c86",
   "metadata": {},
   "outputs": [],
   "source": [
    "22. Check if two sets are identical."
   ]
  },
  {
   "cell_type": "code",
   "execution_count": 26,
   "id": "0caf2e01-26a3-41a6-be01-92f24ca62c09",
   "metadata": {},
   "outputs": [
    {
     "name": "stdout",
     "output_type": "stream",
     "text": [
      "The sets are identical.\n"
     ]
    }
   ],
   "source": [
    "set1 = {1, 2, 3}\n",
    "set2 = {3, 2, 1}\n",
    "\n",
    "if set1 == set2:\n",
    "    print(\"The sets are identical.\")\n",
    "else:\n",
    "    print(\"The sets are not identical.\")"
   ]
  },
  {
   "cell_type": "code",
   "execution_count": null,
   "id": "c9d7aa67-d582-4290-bac5-15624f984442",
   "metadata": {},
   "outputs": [],
   "source": [
    "23. Create a frozen set"
   ]
  },
  {
   "cell_type": "code",
   "execution_count": 29,
   "id": "9e14a5e4-254a-46ba-b90f-2ae4ff48b158",
   "metadata": {},
   "outputs": [
    {
     "name": "stdout",
     "output_type": "stream",
     "text": [
      "frozenset({1, 2, 3, 4, 5})\n"
     ]
    }
   ],
   "source": [
    "my_set = {1, 2, 3, 4, 5}\n",
    "my_frozen_set = frozenset(my_set)\n",
    "print(my_frozen_set)"
   ]
  },
  {
   "cell_type": "code",
   "execution_count": null,
   "id": "676c9550-94f4-48d2-881c-25525ca4d6f8",
   "metadata": {},
   "outputs": [],
   "source": [
    "24. Check if a set is disjoint with another set."
   ]
  },
  {
   "cell_type": "code",
   "execution_count": 30,
   "id": "4b59bfdf-140c-40eb-aa0e-67473ce0c180",
   "metadata": {},
   "outputs": [
    {
     "name": "stdout",
     "output_type": "stream",
     "text": [
      "The sets are disjoint (have no common elements).\n"
     ]
    }
   ],
   "source": [
    "set1 = {1, 2, 3}\n",
    "set2 = {4, 5, 6}\n",
    "\n",
    "if set1.isdisjoint(set2):\n",
    "    print(\"The sets are disjoint (have no common elements).\")\n",
    "else:\n",
    "    print(\"The sets have common elements.\")"
   ]
  },
  {
   "cell_type": "code",
   "execution_count": null,
   "id": "68fb042f-9f9b-4a32-a69c-4394b84cbe9c",
   "metadata": {},
   "outputs": [],
   "source": [
    "25. Create a set of squares of numbers from 1 to 5."
   ]
  },
  {
   "cell_type": "code",
   "execution_count": 32,
   "id": "5ab6b9f0-d26d-44ee-9546-dd45c20b9207",
   "metadata": {},
   "outputs": [
    {
     "name": "stdout",
     "output_type": "stream",
     "text": [
      "{1, 4, 9, 16, 25}\n"
     ]
    }
   ],
   "source": [
    "squares_set = {x ** 2 for x in range(1, 6)}\n",
    "print(squares_set)"
   ]
  },
  {
   "cell_type": "code",
   "execution_count": null,
   "id": "02ca10cc-4033-4ba1-bc23-1d0873013a83",
   "metadata": {},
   "outputs": [],
   "source": [
    "26. Filter out all even numbers from a set."
   ]
  },
  {
   "cell_type": "code",
   "execution_count": 34,
   "id": "feaa79e1-3ca5-40e7-a056-bf03720f7124",
   "metadata": {},
   "outputs": [
    {
     "name": "stdout",
     "output_type": "stream",
     "text": [
      "{1, 3, 5, 7, 9}\n"
     ]
    }
   ],
   "source": [
    "original_set = {1, 2, 3, 4, 5, 6, 7, 8, 9}\n",
    "\n",
    "odd_numbers_set = {x for x in original_set if x % 2 != 0}\n",
    "print(odd_numbers_set)"
   ]
  },
  {
   "cell_type": "code",
   "execution_count": null,
   "id": "d6e497d3-aac6-4cef-a488-a22fcef2fc30",
   "metadata": {},
   "outputs": [],
   "source": [
    "27. Multiply all elements in a set by 2."
   ]
  },
  {
   "cell_type": "code",
   "execution_count": 36,
   "id": "90e46e5f-ed6c-4a94-8efa-89745a7f495c",
   "metadata": {},
   "outputs": [
    {
     "name": "stdout",
     "output_type": "stream",
     "text": [
      "{2, 4, 6, 8, 10}\n"
     ]
    }
   ],
   "source": [
    "original_set = {1, 2, 3, 4, 5}\n",
    "\n",
    "# Create a new set with elements multiplied by 2\n",
    "result_set = {x * 2 for x in original_set}\n",
    "print(result_set)"
   ]
  },
  {
   "cell_type": "code",
   "execution_count": null,
   "id": "96243e71-f6dc-48bc-92fa-9b5c0e7c7df2",
   "metadata": {},
   "outputs": [],
   "source": [
    "28. Create a set of random numbers."
   ]
  },
  {
   "cell_type": "code",
   "execution_count": 37,
   "id": "527ec7d2-761e-43b3-8345-bd1d397434f6",
   "metadata": {},
   "outputs": [
    {
     "name": "stdout",
     "output_type": "stream",
     "text": [
      "Random set: {0.7684500372620652, 0.14344184741948562, 0.7863954566863781, 0.03962034867089548, 0.11356871411607294, 37, 73, 74, 10, 82}\n"
     ]
    }
   ],
   "source": [
    "import random\n",
    "\n",
    "random_set = set()\n",
    "\n",
    "# Add 5 random integers to the set\n",
    "for _ in range(5):\n",
    "    random_set.add(random.randint(1, 100))\n",
    "\n",
    "# Add 5 random floating-point numbers to the set\n",
    "for _ in range(5):\n",
    "    random_set.add(random.uniform(0.0, 1.0))\n",
    "\n",
    "print(\"Random set:\", random_set)"
   ]
  },
  {
   "cell_type": "code",
   "execution_count": null,
   "id": "fe45b1ab-fd26-44bd-8886-33390e068a0e",
   "metadata": {},
   "outputs": [],
   "source": [
    "29. Check if a set is empty."
   ]
  },
  {
   "cell_type": "code",
   "execution_count": 38,
   "id": "11aedb28-cae3-48e7-8c96-7b186644eec7",
   "metadata": {},
   "outputs": [
    {
     "name": "stdout",
     "output_type": "stream",
     "text": [
      "The set is empty\n"
     ]
    }
   ],
   "source": [
    "my_set = set()\n",
    "\n",
    "if not my_set:\n",
    "    print(\"The set is empty\")\n",
    "else:\n",
    "    print(\"The set is not empty\")"
   ]
  },
  {
   "cell_type": "code",
   "execution_count": null,
   "id": "6e5ebcff-1dc8-466a-a210-27e963ee6b35",
   "metadata": {},
   "outputs": [],
   "source": [
    "30. Create a nested set"
   ]
  },
  {
   "cell_type": "code",
   "execution_count": 40,
   "id": "6025670c-d5f2-4451-b871-53a3491a8a0e",
   "metadata": {},
   "outputs": [
    {
     "name": "stdout",
     "output_type": "stream",
     "text": [
      "frozenset({frozenset({1, 2, 3}), frozenset({frozenset({8, 9, 7}), 4, 5, 6}), frozenset({10, 11, 12})})\n"
     ]
    }
   ],
   "source": [
    "nested_set = frozenset([\n",
    "    frozenset([1, 2, 3]),\n",
    "    frozenset([4, 5, 6, frozenset([7, 8, 9])]),\n",
    "    frozenset([10, 11, 12])\n",
    "])\n",
    "print(nested_set)"
   ]
  },
  {
   "cell_type": "code",
   "execution_count": null,
   "id": "4ee4eebf-5ca6-49c1-aa6f-42d6f6a73053",
   "metadata": {},
   "outputs": [],
   "source": [
    "31. Remove an element from a set using the discard method."
   ]
  },
  {
   "cell_type": "code",
   "execution_count": 41,
   "id": "bc2e259a-32a2-4625-9636-a1d33963bc6b",
   "metadata": {},
   "outputs": [
    {
     "name": "stdout",
     "output_type": "stream",
     "text": [
      "Set after removing 3: {1, 2, 4, 5}\n",
      "Set after removing 7: {1, 2, 4, 5}\n"
     ]
    }
   ],
   "source": [
    "my_set = {1, 2, 3, 4, 5}\n",
    "\n",
    "# Remove element 3 from the set using discard\n",
    "my_set.discard(3)\n",
    "\n",
    "print(\"Set after removing 3:\", my_set)\n",
    "\n",
    "# Try to remove element 7, which is not in the set\n",
    "my_set.discard(7)\n",
    "\n",
    "print(\"Set after removing 7:\", my_set)"
   ]
  },
  {
   "cell_type": "code",
   "execution_count": null,
   "id": "81f5a502-ba07-4bd1-b238-b6b20074c24a",
   "metadata": {},
   "outputs": [],
   "source": [
    "32. Compare two sets."
   ]
  },
  {
   "cell_type": "code",
   "execution_count": 42,
   "id": "ca1a30e8-eb7f-43aa-9588-b8da9a31803c",
   "metadata": {},
   "outputs": [
    {
     "name": "stdout",
     "output_type": "stream",
     "text": [
      "The sets are equal.\n"
     ]
    }
   ],
   "source": [
    "set1 = {1, 2, 3}\n",
    "set2 = {3, 2, 1}\n",
    "\n",
    "if set1 == set2:\n",
    "    print(\"The sets are equal.\")"
   ]
  },
  {
   "cell_type": "code",
   "execution_count": null,
   "id": "e99f6cd1-e94d-40b2-a749-b48aaf978201",
   "metadata": {},
   "outputs": [],
   "source": [
    "33. Create a set from a string."
   ]
  },
  {
   "cell_type": "code",
   "execution_count": 43,
   "id": "58cfbdb2-4331-461f-94eb-7730486d9e9c",
   "metadata": {},
   "outputs": [
    {
     "name": "stdout",
     "output_type": "stream",
     "text": [
      "Set from the string: {'h', 'e', 'l', 'o'}\n"
     ]
    }
   ],
   "source": [
    "my_string = \"hello\"\n",
    "my_set = set()\n",
    "\n",
    "for char in my_string:\n",
    "    my_set.add(char)\n",
    "\n",
    "print(\"Set from the string:\", my_set)"
   ]
  },
  {
   "cell_type": "code",
   "execution_count": null,
   "id": "1ed0605a-894e-4af3-b10e-977658fcb97b",
   "metadata": {},
   "outputs": [],
   "source": [
    "34. Convert a set of strings to a set of integers."
   ]
  },
  {
   "cell_type": "code",
   "execution_count": 44,
   "id": "0fbdc851-8ba7-41d6-bc74-1313d61f5ac7",
   "metadata": {},
   "outputs": [
    {
     "name": "stdout",
     "output_type": "stream",
     "text": [
      "Set of integers: {1, 2, 3, 4, 5}\n"
     ]
    }
   ],
   "source": [
    "set_of_strings = {\"1\", \"2\", \"3\", \"4\", \"5\"}\n",
    "\n",
    "# Convert the set of strings to a set of integers\n",
    "set_of_integers = set()\n",
    "for string in set_of_strings:\n",
    "    set_of_integers.add(int(string))\n",
    "\n",
    "print(\"Set of integers:\", set_of_integers)"
   ]
  },
  {
   "cell_type": "code",
   "execution_count": null,
   "id": "9f4dfb48-7a52-4d37-b159-d3faf666bdf9",
   "metadata": {},
   "outputs": [],
   "source": [
    "35. Convert a set of integers to a set of strings."
   ]
  },
  {
   "cell_type": "code",
   "execution_count": 45,
   "id": "0d99210e-0348-440e-8876-3bdec50a16bb",
   "metadata": {},
   "outputs": [
    {
     "name": "stdout",
     "output_type": "stream",
     "text": [
      "Set of strings: {'2', '5', '4', '1', '3'}\n"
     ]
    }
   ],
   "source": [
    "set_of_integers = {1, 2, 3, 4, 5}\n",
    "\n",
    "# Convert the set of integers to a set of strings\n",
    "set_of_strings = set()\n",
    "for integer in set_of_integers:\n",
    "    set_of_strings.add(str(integer))\n",
    "\n",
    "print(\"Set of strings:\", set_of_strings)"
   ]
  },
  {
   "cell_type": "code",
   "execution_count": null,
   "id": "b99ec70f-a0e9-4a21-b1f3-71de8ab79d77",
   "metadata": {},
   "outputs": [],
   "source": [
    "36. Create a set from a tuple."
   ]
  },
  {
   "cell_type": "code",
   "execution_count": 46,
   "id": "2b7c3296-0325-4cea-85a5-3e41f91d9f51",
   "metadata": {},
   "outputs": [
    {
     "name": "stdout",
     "output_type": "stream",
     "text": [
      "Set from the tuple: {1, 2, 3, 4, 5}\n"
     ]
    }
   ],
   "source": [
    "my_tuple = (1, 2, 3, 4, 5)\n",
    "my_set = set(my_tuple)\n",
    "\n",
    "print(\"Set from the tuple:\", my_set)"
   ]
  },
  {
   "cell_type": "code",
   "execution_count": null,
   "id": "637d103a-eb9b-4b0d-98cc-af812e7bc419",
   "metadata": {},
   "outputs": [],
   "source": [
    "37. Convert a set to a tuple."
   ]
  },
  {
   "cell_type": "code",
   "execution_count": 47,
   "id": "3ad59751-c023-4a92-aed1-c8b512f4b8a2",
   "metadata": {},
   "outputs": [
    {
     "name": "stdout",
     "output_type": "stream",
     "text": [
      "Tuple from the set: (1, 2, 3, 4, 5)\n"
     ]
    }
   ],
   "source": [
    "my_set = {1, 2, 3, 4, 5}\n",
    "my_tuple = tuple(my_set)\n",
    "\n",
    "print(\"Tuple from the set:\", my_tuple)"
   ]
  },
  {
   "cell_type": "code",
   "execution_count": null,
   "id": "be9e377c-299d-4bc1-a8e9-ed79ed696ca0",
   "metadata": {},
   "outputs": [],
   "source": [
    "38. Find the maximum value in a set."
   ]
  },
  {
   "cell_type": "code",
   "execution_count": 48,
   "id": "6e914e49-7941-40dc-b3b2-1194e09fd6c4",
   "metadata": {},
   "outputs": [
    {
     "name": "stdout",
     "output_type": "stream",
     "text": [
      "Maximum value in the set: 30\n"
     ]
    }
   ],
   "source": [
    "my_set = {10, 5, 15, 20, 25, 30}\n",
    "\n",
    "maximum_value = max(my_set)\n",
    "\n",
    "print(\"Maximum value in the set:\", maximum_value)"
   ]
  },
  {
   "cell_type": "code",
   "execution_count": null,
   "id": "4ed6d5dd-da2e-4462-a591-ee4c209828ed",
   "metadata": {},
   "outputs": [],
   "source": [
    "39. Find the minimum value in a set."
   ]
  },
  {
   "cell_type": "code",
   "execution_count": 49,
   "id": "adea2b05-9663-49a6-a512-2a9dfc198736",
   "metadata": {},
   "outputs": [
    {
     "name": "stdout",
     "output_type": "stream",
     "text": [
      "Minimum value in the set: 5\n"
     ]
    }
   ],
   "source": [
    "my_set = {10, 5, 15, 20, 25, 30}\n",
    "\n",
    "minimum_value = min(my_set)\n",
    "\n",
    "print(\"Minimum value in the set:\", minimum_value)"
   ]
  },
  {
   "cell_type": "code",
   "execution_count": null,
   "id": "ecff53fb-ad47-4b55-a001-10713e422ac5",
   "metadata": {},
   "outputs": [],
   "source": [
    "40. Create a set from user input."
   ]
  },
  {
   "cell_type": "code",
   "execution_count": 50,
   "id": "16954095-fdd8-46f4-a4ef-019b1442b177",
   "metadata": {},
   "outputs": [
    {
     "name": "stdin",
     "output_type": "stream",
     "text": [
      "Enter an element (or 'done' to finish):  1,2,3,4,5\n",
      "Enter an element (or 'done' to finish):  6,7,8,9,10\n",
      "Enter an element (or 'done' to finish):  done\n"
     ]
    },
    {
     "name": "stdout",
     "output_type": "stream",
     "text": [
      "User-set: {'6,7,8,9,10', '1,2,3,4,5'}\n"
     ]
    }
   ],
   "source": [
    "user_set = set()\n",
    "\n",
    "while True:\n",
    "    user_input = input(\"Enter an element (or 'done' to finish): \")\n",
    "    \n",
    "    if user_input == 'done':\n",
    "        break\n",
    "    \n",
    "    user_set.add(user_input)\n",
    "\n",
    "print(\"User-set:\", user_set)"
   ]
  },
  {
   "cell_type": "code",
   "execution_count": null,
   "id": "f8349083-309a-464d-af10-f704b4b43e31",
   "metadata": {},
   "outputs": [],
   "source": [
    "41. Check if the intersection of two sets is empty."
   ]
  },
  {
   "cell_type": "code",
   "execution_count": 51,
   "id": "1dd5b4eb-70dd-407e-aba3-ef7d95945d44",
   "metadata": {},
   "outputs": [
    {
     "name": "stdout",
     "output_type": "stream",
     "text": [
      "The intersection of set1 and set2 is empty.\n"
     ]
    }
   ],
   "source": [
    "set1 = {1, 2, 3}\n",
    "set2 = {4, 5, 6}\n",
    "\n",
    "if set1.isdisjoint(set2):\n",
    "    print(\"The intersection of set1 and set2 is empty.\")\n",
    "else:\n",
    "    print(\"The sets have common elements.\")"
   ]
  },
  {
   "cell_type": "code",
   "execution_count": null,
   "id": "1a878618-b4e4-49a7-919b-34f3d34251e8",
   "metadata": {},
   "outputs": [],
   "source": [
    "42. Create a set of the first 5 Fibonacci numbers."
   ]
  },
  {
   "cell_type": "code",
   "execution_count": 52,
   "id": "cd2fb4c3-ce9b-4f93-9c1c-cbcf54ca08be",
   "metadata": {},
   "outputs": [
    {
     "name": "stdout",
     "output_type": "stream",
     "text": [
      "Set of the first 5 Fibonacci numbers: {0, 1, 2, 3}\n"
     ]
    }
   ],
   "source": [
    "# Function to generate Fibonacci numbers\n",
    "def generate_fibonacci(n):\n",
    "    fibonacci_set = set()\n",
    "    a, b = 0, 1\n",
    "    for _ in range(n):\n",
    "        fibonacci_set.add(a)\n",
    "        a, b = b, a + b\n",
    "    return fibonacci_set\n",
    "\n",
    "# Create a set of the first 5 Fibonacci numbers\n",
    "first_5_fibonacci = generate_fibonacci(5)\n",
    "\n",
    "print(\"Set of the first 5 Fibonacci numbers:\", first_5_fibonacci)"
   ]
  },
  {
   "cell_type": "code",
   "execution_count": null,
   "id": "ed7ca793-a392-4bab-a681-db9c91bbb67c",
   "metadata": {},
   "outputs": [],
   "source": [
    "43. Remove duplicates from a list using sets."
   ]
  },
  {
   "cell_type": "code",
   "execution_count": 53,
   "id": "5287463d-a90c-40ec-9aa2-b41b653bf1ba",
   "metadata": {},
   "outputs": [
    {
     "name": "stdout",
     "output_type": "stream",
     "text": [
      "List with duplicates removed: [1, 2, 3, 4, 5, 6]\n"
     ]
    }
   ],
   "source": [
    "my_list = [1, 2, 2, 3, 4, 4, 5, 6, 6]\n",
    "\n",
    "# Remove duplicates using sets\n",
    "my_list = list(set(my_list))\n",
    "\n",
    "print(\"List with duplicates removed:\", my_list)"
   ]
  },
  {
   "cell_type": "code",
   "execution_count": null,
   "id": "35670704-0951-43f7-9b5d-c389cdd8fcdf",
   "metadata": {},
   "outputs": [],
   "source": [
    "44. Check if two sets have the same elements, regardless of their count."
   ]
  },
  {
   "cell_type": "code",
   "execution_count": 54,
   "id": "4a2c1c2b-3096-400a-8694-ce678653cdee",
   "metadata": {},
   "outputs": [
    {
     "name": "stdout",
     "output_type": "stream",
     "text": [
      "The sets have the same elements.\n"
     ]
    }
   ],
   "source": [
    "set1 = {1, 2, 3, 3, 4}\n",
    "set2 = {4, 3, 2, 1}\n",
    "\n",
    "if set1 == set2:\n",
    "    print(\"The sets have the same elements.\")\n",
    "else:\n",
    "    print(\"The sets do not have the same elements.\")"
   ]
  },
  {
   "cell_type": "code",
   "execution_count": null,
   "id": "305f8fd6-0e99-48db-9c82-0162842064ff",
   "metadata": {},
   "outputs": [],
   "source": [
    "45. Create a set of the first n powers of 2"
   ]
  },
  {
   "cell_type": "code",
   "execution_count": 55,
   "id": "7979da4b-c2b3-45a0-904e-4891ad1d7531",
   "metadata": {},
   "outputs": [
    {
     "name": "stdout",
     "output_type": "stream",
     "text": [
      "Set of the first 5 powers of 2: {1, 2, 4, 8, 16}\n"
     ]
    }
   ],
   "source": [
    "n = 5  # Replace with the number of powers you want\n",
    "powers_of_2_set = set()\n",
    "\n",
    "for i in range(n):\n",
    "    power = 2 ** i\n",
    "    powers_of_2_set.add(power)\n",
    "\n",
    "print(\"Set of the first\", n, \"powers of 2:\", powers_of_2_set)"
   ]
  },
  {
   "cell_type": "code",
   "execution_count": null,
   "id": "6e6ef81d-493a-49df-818a-9bcfab9fbeea",
   "metadata": {},
   "outputs": [],
   "source": [
    "46. Find the common elements between a set and a list."
   ]
  },
  {
   "cell_type": "code",
   "execution_count": 56,
   "id": "1c61ea85-b851-4b4b-bad7-dcaacb2992d2",
   "metadata": {},
   "outputs": [
    {
     "name": "stdout",
     "output_type": "stream",
     "text": [
      "Common elements (using '&'): {3, 4, 5}\n",
      "Common elements (using intersection()): {3, 4, 5}\n"
     ]
    }
   ],
   "source": [
    "my_set = {1, 2, 3, 4, 5}\n",
    "my_list = [3, 4, 5, 6, 7]\n",
    "\n",
    "# Convert the list to a set and find the common elements using the '&' operator\n",
    "common_elements = my_set & set(my_list)\n",
    "\n",
    "print(\"Common elements (using '&'):\", common_elements)\n",
    "\n",
    "# Convert the list to a set and find the common elements using the intersection() method\n",
    "common_elements = my_set.intersection(set(my_list))\n",
    "\n",
    "print(\"Common elements (using intersection()):\", common_elements)"
   ]
  },
  {
   "cell_type": "code",
   "execution_count": null,
   "id": "bdee9601-9e67-41ec-bc26-e3d04e756fae",
   "metadata": {},
   "outputs": [],
   "source": [
    "47. Create a set of the first n triangular numbers."
   ]
  },
  {
   "cell_type": "code",
   "execution_count": 57,
   "id": "b0c11e54-9bfb-4732-80ec-d102f66af4fe",
   "metadata": {},
   "outputs": [
    {
     "name": "stdout",
     "output_type": "stream",
     "text": [
      "Set of the first 5 triangular numbers: {1, 3, 6, 10, 15}\n"
     ]
    }
   ],
   "source": [
    "n = 5  # Replace with the number of triangular numbers you want\n",
    "triangular_numbers_set = set()\n",
    "\n",
    "for i in range(1, n + 1):\n",
    "    triangular_number = (i * (i + 1)) // 2\n",
    "    triangular_numbers_set.add(triangular_number)\n",
    "\n",
    "print(\"Set of the first\", n, \"triangular numbers:\", triangular_numbers_set)"
   ]
  },
  {
   "cell_type": "code",
   "execution_count": null,
   "id": "6c24e284-d2e7-46b5-a095-ee051b3eb08e",
   "metadata": {},
   "outputs": [],
   "source": [
    "48. Check if a set contains another set as a subset."
   ]
  },
  {
   "cell_type": "code",
   "execution_count": 58,
   "id": "37d00252-c945-4c9a-851b-2a969d12d924",
   "metadata": {},
   "outputs": [
    {
     "name": "stdout",
     "output_type": "stream",
     "text": [
      "set2 is a subset of set1.\n",
      "set2 is a subset of set1.\n"
     ]
    }
   ],
   "source": [
    "set1 = {1, 2, 3, 4, 5}\n",
    "set2 = {3, 4}\n",
    "\n",
    "# Check if set2 is a subset of set1 using issubset()\n",
    "if set2.issubset(set1):\n",
    "    print(\"set2 is a subset of set1.\")\n",
    "else:\n",
    "    print(\"set2 is not a subset of set1.\")\n",
    "\n",
    "# Alternatively, check using the <= operator\n",
    "if set2 <= set1:\n",
    "    print(\"set2 is a subset of set1.\")\n",
    "else:\n",
    "    print(\"set2 is not a subset of set1.\")"
   ]
  },
  {
   "cell_type": "code",
   "execution_count": null,
   "id": "1f10db75-2862-45a6-a57d-969962f2c752",
   "metadata": {},
   "outputs": [],
   "source": [
    "49. Create a set of alternating 1s and 0s of length n."
   ]
  },
  {
   "cell_type": "code",
   "execution_count": 59,
   "id": "c677daab-16d3-4e90-866b-5571e5080305",
   "metadata": {},
   "outputs": [
    {
     "name": "stdout",
     "output_type": "stream",
     "text": [
      "Set of alternating 1s and 0s: {0, 1}\n"
     ]
    }
   ],
   "source": [
    "n = 10  # Replace with the desired length\n",
    "alternating_set = set()\n",
    "\n",
    "for i in range(n):\n",
    "    if i % 2 == 0:\n",
    "        alternating_set.add(0)\n",
    "    else:\n",
    "        alternating_set.add(1)\n",
    "\n",
    "print(\"Set of alternating 1s and 0s:\", alternating_set)"
   ]
  },
  {
   "cell_type": "code",
   "execution_count": null,
   "id": "50d14674-4b60-404f-9397-13e4a28f2140",
   "metadata": {},
   "outputs": [],
   "source": [
    "50. Merge multiple sets into one."
   ]
  },
  {
   "cell_type": "code",
   "execution_count": 60,
   "id": "6f8124e9-1c5e-4c8d-8a0f-70844343915e",
   "metadata": {},
   "outputs": [
    {
     "name": "stdout",
     "output_type": "stream",
     "text": [
      "Merged set (using union()): {1, 2, 3, 4, 5, 6, 7}\n",
      "Merged set (using | operator): {1, 2, 3, 4, 5, 6, 7}\n"
     ]
    }
   ],
   "source": [
    "set1 = {1, 2, 3}\n",
    "set2 = {3, 4, 5}\n",
    "set3 = {5, 6, 7}\n",
    "\n",
    "# Merge sets using the union() method\n",
    "merged_set1 = set1.union(set2, set3)\n",
    "\n",
    "# Merge sets using the | operator\n",
    "merged_set2 = set1 | set2 | set3\n",
    "\n",
    "print(\"Merged set (using union()):\", merged_set1)\n",
    "print(\"Merged set (using | operator):\", merged_set2)"
   ]
  },
  {
   "cell_type": "code",
   "execution_count": null,
   "id": "37410890-e598-4095-be1e-0b208407c7ef",
   "metadata": {},
   "outputs": [],
   "source": []
  }
 ],
 "metadata": {
  "kernelspec": {
   "display_name": "Python 3 (ipykernel)",
   "language": "python",
   "name": "python3"
  },
  "language_info": {
   "codemirror_mode": {
    "name": "ipython",
    "version": 3
   },
   "file_extension": ".py",
   "mimetype": "text/x-python",
   "name": "python",
   "nbconvert_exporter": "python",
   "pygments_lexer": "ipython3",
   "version": "3.10.8"
  }
 },
 "nbformat": 4,
 "nbformat_minor": 5
}
